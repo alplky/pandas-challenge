{
 "cells": [
  {
   "cell_type": "code",
   "execution_count": 11,
   "metadata": {},
   "outputs": [
    {
     "data": {
      "text/html": [
       "<div>\n",
       "<style scoped>\n",
       "    .dataframe tbody tr th:only-of-type {\n",
       "        vertical-align: middle;\n",
       "    }\n",
       "\n",
       "    .dataframe tbody tr th {\n",
       "        vertical-align: top;\n",
       "    }\n",
       "\n",
       "    .dataframe thead th {\n",
       "        text-align: right;\n",
       "    }\n",
       "</style>\n",
       "<table border=\"1\" class=\"dataframe\">\n",
       "  <thead>\n",
       "    <tr style=\"text-align: right;\">\n",
       "      <th></th>\n",
       "      <th>Purchase ID</th>\n",
       "      <th>SN</th>\n",
       "      <th>Age</th>\n",
       "      <th>Gender</th>\n",
       "      <th>Item ID</th>\n",
       "      <th>Item Name</th>\n",
       "      <th>Price</th>\n",
       "    </tr>\n",
       "  </thead>\n",
       "  <tbody>\n",
       "    <tr>\n",
       "      <th>0</th>\n",
       "      <td>0</td>\n",
       "      <td>Lisim78</td>\n",
       "      <td>20</td>\n",
       "      <td>Male</td>\n",
       "      <td>108</td>\n",
       "      <td>Extraction, Quickblade Of Trembling Hands</td>\n",
       "      <td>3.53</td>\n",
       "    </tr>\n",
       "    <tr>\n",
       "      <th>1</th>\n",
       "      <td>1</td>\n",
       "      <td>Lisovynya38</td>\n",
       "      <td>40</td>\n",
       "      <td>Male</td>\n",
       "      <td>143</td>\n",
       "      <td>Frenzied Scimitar</td>\n",
       "      <td>1.56</td>\n",
       "    </tr>\n",
       "    <tr>\n",
       "      <th>2</th>\n",
       "      <td>2</td>\n",
       "      <td>Ithergue48</td>\n",
       "      <td>24</td>\n",
       "      <td>Male</td>\n",
       "      <td>92</td>\n",
       "      <td>Final Critic</td>\n",
       "      <td>4.88</td>\n",
       "    </tr>\n",
       "    <tr>\n",
       "      <th>3</th>\n",
       "      <td>3</td>\n",
       "      <td>Chamassasya86</td>\n",
       "      <td>24</td>\n",
       "      <td>Male</td>\n",
       "      <td>100</td>\n",
       "      <td>Blindscythe</td>\n",
       "      <td>3.27</td>\n",
       "    </tr>\n",
       "    <tr>\n",
       "      <th>4</th>\n",
       "      <td>4</td>\n",
       "      <td>Iskosia90</td>\n",
       "      <td>23</td>\n",
       "      <td>Male</td>\n",
       "      <td>131</td>\n",
       "      <td>Fury</td>\n",
       "      <td>1.44</td>\n",
       "    </tr>\n",
       "    <tr>\n",
       "      <th>...</th>\n",
       "      <td>...</td>\n",
       "      <td>...</td>\n",
       "      <td>...</td>\n",
       "      <td>...</td>\n",
       "      <td>...</td>\n",
       "      <td>...</td>\n",
       "      <td>...</td>\n",
       "    </tr>\n",
       "    <tr>\n",
       "      <th>775</th>\n",
       "      <td>775</td>\n",
       "      <td>Aethedru70</td>\n",
       "      <td>21</td>\n",
       "      <td>Female</td>\n",
       "      <td>60</td>\n",
       "      <td>Wolf</td>\n",
       "      <td>3.54</td>\n",
       "    </tr>\n",
       "    <tr>\n",
       "      <th>776</th>\n",
       "      <td>776</td>\n",
       "      <td>Iral74</td>\n",
       "      <td>21</td>\n",
       "      <td>Male</td>\n",
       "      <td>164</td>\n",
       "      <td>Exiled Doomblade</td>\n",
       "      <td>1.63</td>\n",
       "    </tr>\n",
       "    <tr>\n",
       "      <th>777</th>\n",
       "      <td>777</td>\n",
       "      <td>Yathecal72</td>\n",
       "      <td>20</td>\n",
       "      <td>Male</td>\n",
       "      <td>67</td>\n",
       "      <td>Celeste, Incarnation of the Corrupted</td>\n",
       "      <td>3.46</td>\n",
       "    </tr>\n",
       "    <tr>\n",
       "      <th>778</th>\n",
       "      <td>778</td>\n",
       "      <td>Sisur91</td>\n",
       "      <td>7</td>\n",
       "      <td>Male</td>\n",
       "      <td>101</td>\n",
       "      <td>Final Critic</td>\n",
       "      <td>4.19</td>\n",
       "    </tr>\n",
       "    <tr>\n",
       "      <th>779</th>\n",
       "      <td>779</td>\n",
       "      <td>Ennrian78</td>\n",
       "      <td>24</td>\n",
       "      <td>Male</td>\n",
       "      <td>50</td>\n",
       "      <td>Dawn</td>\n",
       "      <td>4.60</td>\n",
       "    </tr>\n",
       "  </tbody>\n",
       "</table>\n",
       "<p>780 rows × 7 columns</p>\n",
       "</div>"
      ],
      "text/plain": [
       "     Purchase ID             SN  Age  Gender  Item ID  \\\n",
       "0              0        Lisim78   20    Male      108   \n",
       "1              1    Lisovynya38   40    Male      143   \n",
       "2              2     Ithergue48   24    Male       92   \n",
       "3              3  Chamassasya86   24    Male      100   \n",
       "4              4      Iskosia90   23    Male      131   \n",
       "..           ...            ...  ...     ...      ...   \n",
       "775          775     Aethedru70   21  Female       60   \n",
       "776          776         Iral74   21    Male      164   \n",
       "777          777     Yathecal72   20    Male       67   \n",
       "778          778        Sisur91    7    Male      101   \n",
       "779          779      Ennrian78   24    Male       50   \n",
       "\n",
       "                                     Item Name  Price  \n",
       "0    Extraction, Quickblade Of Trembling Hands   3.53  \n",
       "1                            Frenzied Scimitar   1.56  \n",
       "2                                 Final Critic   4.88  \n",
       "3                                  Blindscythe   3.27  \n",
       "4                                         Fury   1.44  \n",
       "..                                         ...    ...  \n",
       "775                                       Wolf   3.54  \n",
       "776                           Exiled Doomblade   1.63  \n",
       "777      Celeste, Incarnation of the Corrupted   3.46  \n",
       "778                               Final Critic   4.19  \n",
       "779                                       Dawn   4.60  \n",
       "\n",
       "[780 rows x 7 columns]"
      ]
     },
     "execution_count": 11,
     "metadata": {},
     "output_type": "execute_result"
    },
    {
     "data": {
      "application/javascript": [
       "\n",
       "            setTimeout(function() {\n",
       "                var nbb_cell_id = 11;\n",
       "                var nbb_unformatted_code = \"#Dependencies and Setup\\nimport pandas as pd\\n%reload_ext nb_black\\n\\npath = \\\"Resources/purchase_data.csv\\\"\\n\\ndf = pd.read_csv(path)\\ndf\";\n",
       "                var nbb_formatted_code = \"# Dependencies and Setup\\nimport pandas as pd\\n\\n%reload_ext nb_black\\n\\npath = \\\"Resources/purchase_data.csv\\\"\\n\\ndf = pd.read_csv(path)\\ndf\";\n",
       "                var nbb_cells = Jupyter.notebook.get_cells();\n",
       "                for (var i = 0; i < nbb_cells.length; ++i) {\n",
       "                    if (nbb_cells[i].input_prompt_number == nbb_cell_id) {\n",
       "                        if (nbb_cells[i].get_text() == nbb_unformatted_code) {\n",
       "                             nbb_cells[i].set_text(nbb_formatted_code);\n",
       "                        }\n",
       "                        break;\n",
       "                    }\n",
       "                }\n",
       "            }, 500);\n",
       "            "
      ],
      "text/plain": [
       "<IPython.core.display.Javascript object>"
      ]
     },
     "metadata": {},
     "output_type": "display_data"
    },
    {
     "data": {
      "application/javascript": [
       "\n",
       "            setTimeout(function() {\n",
       "                var nbb_cell_id = 11;\n",
       "                var nbb_unformatted_code = \"#Dependencies and Setup\\nimport pandas as pd\\n%reload_ext nb_black\\n\\npath = \\\"Resources/purchase_data.csv\\\"\\n\\ndf = pd.read_csv(path)\\ndf\";\n",
       "                var nbb_formatted_code = \"# Dependencies and Setup\\nimport pandas as pd\\n\\n%reload_ext nb_black\\n\\npath = \\\"Resources/purchase_data.csv\\\"\\n\\ndf = pd.read_csv(path)\\ndf\";\n",
       "                var nbb_cells = Jupyter.notebook.get_cells();\n",
       "                for (var i = 0; i < nbb_cells.length; ++i) {\n",
       "                    if (nbb_cells[i].input_prompt_number == nbb_cell_id) {\n",
       "                        if (nbb_cells[i].get_text() == nbb_unformatted_code) {\n",
       "                             nbb_cells[i].set_text(nbb_formatted_code);\n",
       "                        }\n",
       "                        break;\n",
       "                    }\n",
       "                }\n",
       "            }, 500);\n",
       "            "
      ],
      "text/plain": [
       "<IPython.core.display.Javascript object>"
      ]
     },
     "metadata": {},
     "output_type": "display_data"
    }
   ],
   "source": [
    "#Dependencies and Setup\n",
    "import pandas as pd\n",
    "%reload_ext nb_black\n",
    "\n",
    "path = \"Resources/purchase_data.csv\"\n",
    "\n",
    "df = pd.read_csv(path)\n",
    "df"
   ]
  },
  {
   "cell_type": "markdown",
   "metadata": {},
   "source": [
    "# Player Count"
   ]
  },
  {
   "cell_type": "code",
   "execution_count": 28,
   "metadata": {},
   "outputs": [
    {
     "data": {
      "text/html": [
       "<div>\n",
       "<style scoped>\n",
       "    .dataframe tbody tr th:only-of-type {\n",
       "        vertical-align: middle;\n",
       "    }\n",
       "\n",
       "    .dataframe tbody tr th {\n",
       "        vertical-align: top;\n",
       "    }\n",
       "\n",
       "    .dataframe thead th {\n",
       "        text-align: right;\n",
       "    }\n",
       "</style>\n",
       "<table border=\"1\" class=\"dataframe\">\n",
       "  <thead>\n",
       "    <tr style=\"text-align: right;\">\n",
       "      <th></th>\n",
       "      <th>Total Players</th>\n",
       "    </tr>\n",
       "  </thead>\n",
       "  <tbody>\n",
       "    <tr>\n",
       "      <th>0</th>\n",
       "      <td>576</td>\n",
       "    </tr>\n",
       "  </tbody>\n",
       "</table>\n",
       "</div>"
      ],
      "text/plain": [
       "   Total Players\n",
       "0            576"
      ]
     },
     "execution_count": 28,
     "metadata": {},
     "output_type": "execute_result"
    },
    {
     "data": {
      "application/javascript": [
       "\n",
       "            setTimeout(function() {\n",
       "                var nbb_cell_id = 28;\n",
       "                var nbb_unformatted_code = \"total_players_df = pd.DataFrame({\\n    \\\"Total Players\\\": [df[\\\"SN\\\"].nunique()]\\n})\\ntotal_players_df\";\n",
       "                var nbb_formatted_code = \"total_players_df = pd.DataFrame({\\\"Total Players\\\": [df[\\\"SN\\\"].nunique()]})\\ntotal_players_df\";\n",
       "                var nbb_cells = Jupyter.notebook.get_cells();\n",
       "                for (var i = 0; i < nbb_cells.length; ++i) {\n",
       "                    if (nbb_cells[i].input_prompt_number == nbb_cell_id) {\n",
       "                        if (nbb_cells[i].get_text() == nbb_unformatted_code) {\n",
       "                             nbb_cells[i].set_text(nbb_formatted_code);\n",
       "                        }\n",
       "                        break;\n",
       "                    }\n",
       "                }\n",
       "            }, 500);\n",
       "            "
      ],
      "text/plain": [
       "<IPython.core.display.Javascript object>"
      ]
     },
     "metadata": {},
     "output_type": "display_data"
    },
    {
     "data": {
      "application/javascript": [
       "\n",
       "            setTimeout(function() {\n",
       "                var nbb_cell_id = 28;\n",
       "                var nbb_unformatted_code = \"total_players_df = pd.DataFrame({\\n    \\\"Total Players\\\": [df[\\\"SN\\\"].nunique()]\\n})\\ntotal_players_df\";\n",
       "                var nbb_formatted_code = \"total_players_df = pd.DataFrame({\\\"Total Players\\\": [df[\\\"SN\\\"].nunique()]})\\ntotal_players_df\";\n",
       "                var nbb_cells = Jupyter.notebook.get_cells();\n",
       "                for (var i = 0; i < nbb_cells.length; ++i) {\n",
       "                    if (nbb_cells[i].input_prompt_number == nbb_cell_id) {\n",
       "                        if (nbb_cells[i].get_text() == nbb_unformatted_code) {\n",
       "                             nbb_cells[i].set_text(nbb_formatted_code);\n",
       "                        }\n",
       "                        break;\n",
       "                    }\n",
       "                }\n",
       "            }, 500);\n",
       "            "
      ],
      "text/plain": [
       "<IPython.core.display.Javascript object>"
      ]
     },
     "metadata": {},
     "output_type": "display_data"
    }
   ],
   "source": [
    "total_players_df = pd.DataFrame({\n",
    "    \"Total Players\": [df[\"SN\"].nunique()]\n",
    "})\n",
    "total_players_df"
   ]
  },
  {
   "cell_type": "markdown",
   "metadata": {},
   "source": [
    "# Purchasing Analysis (Total)"
   ]
  },
  {
   "cell_type": "code",
   "execution_count": 27,
   "metadata": {},
   "outputs": [
    {
     "data": {
      "text/html": [
       "<div>\n",
       "<style scoped>\n",
       "    .dataframe tbody tr th:only-of-type {\n",
       "        vertical-align: middle;\n",
       "    }\n",
       "\n",
       "    .dataframe tbody tr th {\n",
       "        vertical-align: top;\n",
       "    }\n",
       "\n",
       "    .dataframe thead th {\n",
       "        text-align: right;\n",
       "    }\n",
       "</style>\n",
       "<table border=\"1\" class=\"dataframe\">\n",
       "  <thead>\n",
       "    <tr style=\"text-align: right;\">\n",
       "      <th></th>\n",
       "      <th>Number of Unique Items</th>\n",
       "      <th>Average Price</th>\n",
       "      <th>Number of Purchases</th>\n",
       "      <th>Total Revenue</th>\n",
       "    </tr>\n",
       "  </thead>\n",
       "  <tbody>\n",
       "    <tr>\n",
       "      <th>0</th>\n",
       "      <td>183</td>\n",
       "      <td>$3.05</td>\n",
       "      <td>780</td>\n",
       "      <td>$2379.77</td>\n",
       "    </tr>\n",
       "  </tbody>\n",
       "</table>\n",
       "</div>"
      ],
      "text/plain": [
       "   Number of Unique Items Average Price  Number of Purchases Total Revenue\n",
       "0                     183         $3.05                  780      $2379.77"
      ]
     },
     "execution_count": 27,
     "metadata": {},
     "output_type": "execute_result"
    },
    {
     "data": {
      "application/javascript": [
       "\n",
       "            setTimeout(function() {\n",
       "                var nbb_cell_id = 27;\n",
       "                var nbb_unformatted_code = \"#aggregate and create variables for the new dataframe to display\\nunique_items = df[\\\"Item ID\\\"].nunique()\\navg_price = round(df[\\\"Price\\\"].mean(), 2)\\ntotal_purchases = df[\\\"Purchase ID\\\"].count()\\ntotal_revenue = df[\\\"Price\\\"].sum()\\n\\npurchase_analysis_df = pd.DataFrame({\\n    \\\"Number of Unique Items\\\": [unique_items],\\n    \\\"Average Price\\\" : [(f\\\"${avg_price}\\\")],\\n    \\\"Number of Purchases\\\": [total_purchases],\\n    \\\"Total Revenue\\\" : [(f\\\"${total_revenue}\\\")]\\n})\\npurchase_analysis_df\";\n",
       "                var nbb_formatted_code = \"# aggregate and create variables for the new dataframe to display\\nunique_items = df[\\\"Item ID\\\"].nunique()\\navg_price = round(df[\\\"Price\\\"].mean(), 2)\\ntotal_purchases = df[\\\"Purchase ID\\\"].count()\\ntotal_revenue = df[\\\"Price\\\"].sum()\\n\\npurchase_analysis_df = pd.DataFrame(\\n    {\\n        \\\"Number of Unique Items\\\": [unique_items],\\n        \\\"Average Price\\\": [(f\\\"${avg_price}\\\")],\\n        \\\"Number of Purchases\\\": [total_purchases],\\n        \\\"Total Revenue\\\": [(f\\\"${total_revenue}\\\")],\\n    }\\n)\\npurchase_analysis_df\";\n",
       "                var nbb_cells = Jupyter.notebook.get_cells();\n",
       "                for (var i = 0; i < nbb_cells.length; ++i) {\n",
       "                    if (nbb_cells[i].input_prompt_number == nbb_cell_id) {\n",
       "                        if (nbb_cells[i].get_text() == nbb_unformatted_code) {\n",
       "                             nbb_cells[i].set_text(nbb_formatted_code);\n",
       "                        }\n",
       "                        break;\n",
       "                    }\n",
       "                }\n",
       "            }, 500);\n",
       "            "
      ],
      "text/plain": [
       "<IPython.core.display.Javascript object>"
      ]
     },
     "metadata": {},
     "output_type": "display_data"
    },
    {
     "data": {
      "application/javascript": [
       "\n",
       "            setTimeout(function() {\n",
       "                var nbb_cell_id = 27;\n",
       "                var nbb_unformatted_code = \"#aggregate and create variables for the new dataframe to display\\nunique_items = df[\\\"Item ID\\\"].nunique()\\navg_price = round(df[\\\"Price\\\"].mean(), 2)\\ntotal_purchases = df[\\\"Purchase ID\\\"].count()\\ntotal_revenue = df[\\\"Price\\\"].sum()\\n\\npurchase_analysis_df = pd.DataFrame({\\n    \\\"Number of Unique Items\\\": [unique_items],\\n    \\\"Average Price\\\" : [(f\\\"${avg_price}\\\")],\\n    \\\"Number of Purchases\\\": [total_purchases],\\n    \\\"Total Revenue\\\" : [(f\\\"${total_revenue}\\\")]\\n})\\npurchase_analysis_df\";\n",
       "                var nbb_formatted_code = \"# aggregate and create variables for the new dataframe to display\\nunique_items = df[\\\"Item ID\\\"].nunique()\\navg_price = round(df[\\\"Price\\\"].mean(), 2)\\ntotal_purchases = df[\\\"Purchase ID\\\"].count()\\ntotal_revenue = df[\\\"Price\\\"].sum()\\n\\npurchase_analysis_df = pd.DataFrame(\\n    {\\n        \\\"Number of Unique Items\\\": [unique_items],\\n        \\\"Average Price\\\": [(f\\\"${avg_price}\\\")],\\n        \\\"Number of Purchases\\\": [total_purchases],\\n        \\\"Total Revenue\\\": [(f\\\"${total_revenue}\\\")],\\n    }\\n)\\npurchase_analysis_df\";\n",
       "                var nbb_cells = Jupyter.notebook.get_cells();\n",
       "                for (var i = 0; i < nbb_cells.length; ++i) {\n",
       "                    if (nbb_cells[i].input_prompt_number == nbb_cell_id) {\n",
       "                        if (nbb_cells[i].get_text() == nbb_unformatted_code) {\n",
       "                             nbb_cells[i].set_text(nbb_formatted_code);\n",
       "                        }\n",
       "                        break;\n",
       "                    }\n",
       "                }\n",
       "            }, 500);\n",
       "            "
      ],
      "text/plain": [
       "<IPython.core.display.Javascript object>"
      ]
     },
     "metadata": {},
     "output_type": "display_data"
    }
   ],
   "source": [
    "#aggregate and create variables for the new dataframe to display\n",
    "unique_items = df[\"Item ID\"].nunique()\n",
    "avg_price = round(df[\"Price\"].mean(), 2)\n",
    "total_purchases = df[\"Purchase ID\"].count()\n",
    "total_revenue = df[\"Price\"].sum()\n",
    "\n",
    "purchase_analysis_df = pd.DataFrame({\n",
    "    \"Number of Unique Items\": [unique_items],\n",
    "    \"Average Price\" : [(f\"${avg_price}\")],\n",
    "    \"Number of Purchases\": [total_purchases],\n",
    "    \"Total Revenue\" : [(f\"${total_revenue}\")]\n",
    "})\n",
    "purchase_analysis_df"
   ]
  },
  {
   "cell_type": "markdown",
   "metadata": {},
   "source": [
    "# Gender Demographics"
   ]
  },
  {
   "cell_type": "code",
   "execution_count": 90,
   "metadata": {},
   "outputs": [
    {
     "data": {
      "text/html": [
       "<div>\n",
       "<style scoped>\n",
       "    .dataframe tbody tr th:only-of-type {\n",
       "        vertical-align: middle;\n",
       "    }\n",
       "\n",
       "    .dataframe tbody tr th {\n",
       "        vertical-align: top;\n",
       "    }\n",
       "\n",
       "    .dataframe thead th {\n",
       "        text-align: right;\n",
       "    }\n",
       "</style>\n",
       "<table border=\"1\" class=\"dataframe\">\n",
       "  <thead>\n",
       "    <tr style=\"text-align: right;\">\n",
       "      <th></th>\n",
       "      <th>Total Count</th>\n",
       "      <th>Percentage of Players</th>\n",
       "    </tr>\n",
       "    <tr>\n",
       "      <th></th>\n",
       "      <th></th>\n",
       "      <th></th>\n",
       "    </tr>\n",
       "  </thead>\n",
       "  <tbody>\n",
       "    <tr>\n",
       "      <th>Male</th>\n",
       "      <td>484</td>\n",
       "      <td>84.03%</td>\n",
       "    </tr>\n",
       "    <tr>\n",
       "      <th>Female</th>\n",
       "      <td>81</td>\n",
       "      <td>14.06%</td>\n",
       "    </tr>\n",
       "    <tr>\n",
       "      <th>Other/Non-Disclosed</th>\n",
       "      <td>11</td>\n",
       "      <td>1.91%</td>\n",
       "    </tr>\n",
       "  </tbody>\n",
       "</table>\n",
       "</div>"
      ],
      "text/plain": [
       "                     Total Count Percentage of Players\n",
       "                                                      \n",
       "Male                         484                84.03%\n",
       "Female                        81                14.06%\n",
       "Other/Non-Disclosed           11                 1.91%"
      ]
     },
     "execution_count": 90,
     "metadata": {},
     "output_type": "execute_result"
    },
    {
     "data": {
      "application/javascript": [
       "\n",
       "            setTimeout(function() {\n",
       "                var nbb_cell_id = 90;\n",
       "                var nbb_unformatted_code = \"#create df with screen names and gender, then drop duplicate screen names\\ngender_df = df[[\\\"SN\\\", \\\"Gender\\\"]]\\ngender_df = gender_df.drop_duplicates(subset=[\\\"SN\\\"])\\n\\n#count each gender for unique players - not overall\\nmale_count = gender_df.loc[gender_df[\\\"Gender\\\"] == \\\"Male\\\", \\\"Gender\\\"].count()\\nfemale_count = gender_df.loc[gender_df[\\\"Gender\\\"] == \\\"Female\\\", \\\"Gender\\\"].count()\\nnd_count = gender_df.loc[gender_df[\\\"Gender\\\"] == \\\"Other / Non-Disclosed\\\", \\\"Gender\\\"].count()\\n\\n#total genders for percentage\\ngender_total = male_count + female_count + nd_count\\n\\n#calculate percentages\\nmale_percent = round((male_count / gender_total) * 100, 2)\\nfemale_percent = round((female_count / gender_total) * 100, 2)\\nnd_percent = round((nd_count / gender_total) * 100, 2)\\n\\ngender_dems = pd.DataFrame({\\n    \\\"Total Count\\\": [male_count, female_count, nd_count],\\n    \\\"Percentage of Players\\\": [(f\\\"{male_percent}%\\\"), (f\\\"{female_percent}%\\\"), (f\\\"{nd_percent}%\\\")],\\n    \\\" \\\": [\\\"Male\\\", \\\"Female\\\", \\\"Other/Non-Disclosed\\\"]\\n})\\ngender_dems.set_index([\\\" \\\"])\";\n",
       "                var nbb_formatted_code = \"# create df with screen names and gender, then drop duplicate screen names\\ngender_df = df[[\\\"SN\\\", \\\"Gender\\\"]]\\ngender_df = gender_df.drop_duplicates(subset=[\\\"SN\\\"])\\n\\n# count each gender for unique players - not overall\\nmale_count = gender_df.loc[gender_df[\\\"Gender\\\"] == \\\"Male\\\", \\\"Gender\\\"].count()\\nfemale_count = gender_df.loc[gender_df[\\\"Gender\\\"] == \\\"Female\\\", \\\"Gender\\\"].count()\\nnd_count = gender_df.loc[\\n    gender_df[\\\"Gender\\\"] == \\\"Other / Non-Disclosed\\\", \\\"Gender\\\"\\n].count()\\n\\n# total genders for percentage\\ngender_total = male_count + female_count + nd_count\\n\\n# calculate percentages\\nmale_percent = round((male_count / gender_total) * 100, 2)\\nfemale_percent = round((female_count / gender_total) * 100, 2)\\nnd_percent = round((nd_count / gender_total) * 100, 2)\\n\\ngender_dems = pd.DataFrame(\\n    {\\n        \\\"Total Count\\\": [male_count, female_count, nd_count],\\n        \\\"Percentage of Players\\\": [\\n            (f\\\"{male_percent}%\\\"),\\n            (f\\\"{female_percent}%\\\"),\\n            (f\\\"{nd_percent}%\\\"),\\n        ],\\n        \\\" \\\": [\\\"Male\\\", \\\"Female\\\", \\\"Other/Non-Disclosed\\\"],\\n    }\\n)\\ngender_dems.set_index([\\\" \\\"])\";\n",
       "                var nbb_cells = Jupyter.notebook.get_cells();\n",
       "                for (var i = 0; i < nbb_cells.length; ++i) {\n",
       "                    if (nbb_cells[i].input_prompt_number == nbb_cell_id) {\n",
       "                        if (nbb_cells[i].get_text() == nbb_unformatted_code) {\n",
       "                             nbb_cells[i].set_text(nbb_formatted_code);\n",
       "                        }\n",
       "                        break;\n",
       "                    }\n",
       "                }\n",
       "            }, 500);\n",
       "            "
      ],
      "text/plain": [
       "<IPython.core.display.Javascript object>"
      ]
     },
     "metadata": {},
     "output_type": "display_data"
    },
    {
     "data": {
      "application/javascript": [
       "\n",
       "            setTimeout(function() {\n",
       "                var nbb_cell_id = 90;\n",
       "                var nbb_unformatted_code = \"#create df with screen names and gender, then drop duplicate screen names\\ngender_df = df[[\\\"SN\\\", \\\"Gender\\\"]]\\ngender_df = gender_df.drop_duplicates(subset=[\\\"SN\\\"])\\n\\n#count each gender for unique players - not overall\\nmale_count = gender_df.loc[gender_df[\\\"Gender\\\"] == \\\"Male\\\", \\\"Gender\\\"].count()\\nfemale_count = gender_df.loc[gender_df[\\\"Gender\\\"] == \\\"Female\\\", \\\"Gender\\\"].count()\\nnd_count = gender_df.loc[gender_df[\\\"Gender\\\"] == \\\"Other / Non-Disclosed\\\", \\\"Gender\\\"].count()\\n\\n#total genders for percentage\\ngender_total = male_count + female_count + nd_count\\n\\n#calculate percentages\\nmale_percent = round((male_count / gender_total) * 100, 2)\\nfemale_percent = round((female_count / gender_total) * 100, 2)\\nnd_percent = round((nd_count / gender_total) * 100, 2)\\n\\ngender_dems = pd.DataFrame({\\n    \\\"Total Count\\\": [male_count, female_count, nd_count],\\n    \\\"Percentage of Players\\\": [(f\\\"{male_percent}%\\\"), (f\\\"{female_percent}%\\\"), (f\\\"{nd_percent}%\\\")],\\n    \\\" \\\": [\\\"Male\\\", \\\"Female\\\", \\\"Other/Non-Disclosed\\\"]\\n})\\ngender_dems.set_index([\\\" \\\"])\";\n",
       "                var nbb_formatted_code = \"# create df with screen names and gender, then drop duplicate screen names\\ngender_df = df[[\\\"SN\\\", \\\"Gender\\\"]]\\ngender_df = gender_df.drop_duplicates(subset=[\\\"SN\\\"])\\n\\n# count each gender for unique players - not overall\\nmale_count = gender_df.loc[gender_df[\\\"Gender\\\"] == \\\"Male\\\", \\\"Gender\\\"].count()\\nfemale_count = gender_df.loc[gender_df[\\\"Gender\\\"] == \\\"Female\\\", \\\"Gender\\\"].count()\\nnd_count = gender_df.loc[\\n    gender_df[\\\"Gender\\\"] == \\\"Other / Non-Disclosed\\\", \\\"Gender\\\"\\n].count()\\n\\n# total genders for percentage\\ngender_total = male_count + female_count + nd_count\\n\\n# calculate percentages\\nmale_percent = round((male_count / gender_total) * 100, 2)\\nfemale_percent = round((female_count / gender_total) * 100, 2)\\nnd_percent = round((nd_count / gender_total) * 100, 2)\\n\\ngender_dems = pd.DataFrame(\\n    {\\n        \\\"Total Count\\\": [male_count, female_count, nd_count],\\n        \\\"Percentage of Players\\\": [\\n            (f\\\"{male_percent}%\\\"),\\n            (f\\\"{female_percent}%\\\"),\\n            (f\\\"{nd_percent}%\\\"),\\n        ],\\n        \\\" \\\": [\\\"Male\\\", \\\"Female\\\", \\\"Other/Non-Disclosed\\\"],\\n    }\\n)\\ngender_dems.set_index([\\\" \\\"])\";\n",
       "                var nbb_cells = Jupyter.notebook.get_cells();\n",
       "                for (var i = 0; i < nbb_cells.length; ++i) {\n",
       "                    if (nbb_cells[i].input_prompt_number == nbb_cell_id) {\n",
       "                        if (nbb_cells[i].get_text() == nbb_unformatted_code) {\n",
       "                             nbb_cells[i].set_text(nbb_formatted_code);\n",
       "                        }\n",
       "                        break;\n",
       "                    }\n",
       "                }\n",
       "            }, 500);\n",
       "            "
      ],
      "text/plain": [
       "<IPython.core.display.Javascript object>"
      ]
     },
     "metadata": {},
     "output_type": "display_data"
    }
   ],
   "source": [
    "#create df with screen names and gender, then drop duplicate screen names\n",
    "gender_df = df[[\"SN\", \"Gender\"]]\n",
    "gender_df = gender_df.drop_duplicates(subset=[\"SN\"])\n",
    "\n",
    "#count each gender for unique players - not overall\n",
    "male_count = gender_df.loc[gender_df[\"Gender\"] == \"Male\", \"Gender\"].count()\n",
    "female_count = gender_df.loc[gender_df[\"Gender\"] == \"Female\", \"Gender\"].count()\n",
    "nd_count = gender_df.loc[gender_df[\"Gender\"] == \"Other / Non-Disclosed\", \"Gender\"].count()\n",
    "\n",
    "#total genders for percentage\n",
    "gender_total = male_count + female_count + nd_count\n",
    "\n",
    "#calculate percentages\n",
    "male_percent = round((male_count / gender_total) * 100, 2)\n",
    "female_percent = round((female_count / gender_total) * 100, 2)\n",
    "nd_percent = round((nd_count / gender_total) * 100, 2)\n",
    "\n",
    "gender_dems = pd.DataFrame({\n",
    "    \"Total Count\": [male_count, female_count, nd_count],\n",
    "    \"Percentage of Players\": [(f\"{male_percent}%\"), (f\"{female_percent}%\"), (f\"{nd_percent}%\")],\n",
    "    \" \": [\"Male\", \"Female\", \"Other/Non-Disclosed\"]\n",
    "})\n",
    "gender_dems.set_index([\" \"])"
   ]
  },
  {
   "cell_type": "code",
   "execution_count": null,
   "metadata": {},
   "outputs": [],
   "source": []
  }
 ],
 "metadata": {
  "environment": {
   "name": "common-cpu.m54",
   "type": "gcloud",
   "uri": "gcr.io/deeplearning-platform-release/base-cpu:m54"
  },
  "kernelspec": {
   "display_name": "Python 3",
   "language": "python",
   "name": "python3"
  },
  "language_info": {
   "codemirror_mode": {
    "name": "ipython",
    "version": 3
   },
   "file_extension": ".py",
   "mimetype": "text/x-python",
   "name": "python",
   "nbconvert_exporter": "python",
   "pygments_lexer": "ipython3",
   "version": "3.7.8"
  }
 },
 "nbformat": 4,
 "nbformat_minor": 4
}
