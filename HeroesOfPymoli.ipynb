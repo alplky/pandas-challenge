{
 "cells": [
  {
   "cell_type": "code",
   "execution_count": 1,
   "metadata": {},
   "outputs": [
    {
     "data": {
      "application/javascript": [
       "\n",
       "            setTimeout(function() {\n",
       "                var nbb_cell_id = 1;\n",
       "                var nbb_unformatted_code = \"#Dependencies and Setup\\nimport pandas as pd\\n%reload_ext nb_black\\n\\npath = \\\"Resources/purchase_data.csv\\\"\\n\\ndf = pd.read_csv(path)\";\n",
       "                var nbb_formatted_code = \"# Dependencies and Setup\\nimport pandas as pd\\n\\n%reload_ext nb_black\\n\\npath = \\\"Resources/purchase_data.csv\\\"\\n\\ndf = pd.read_csv(path)\";\n",
       "                var nbb_cells = Jupyter.notebook.get_cells();\n",
       "                for (var i = 0; i < nbb_cells.length; ++i) {\n",
       "                    if (nbb_cells[i].input_prompt_number == nbb_cell_id) {\n",
       "                        if (nbb_cells[i].get_text() == nbb_unformatted_code) {\n",
       "                             nbb_cells[i].set_text(nbb_formatted_code);\n",
       "                        }\n",
       "                        break;\n",
       "                    }\n",
       "                }\n",
       "            }, 500);\n",
       "            "
      ],
      "text/plain": [
       "<IPython.core.display.Javascript object>"
      ]
     },
     "metadata": {},
     "output_type": "display_data"
    }
   ],
   "source": [
    "#Dependencies and Setup\n",
    "import pandas as pd\n",
    "%reload_ext nb_black\n",
    "\n",
    "path = \"Resources/purchase_data.csv\"\n",
    "\n",
    "df = pd.read_csv(path)"
   ]
  },
  {
   "cell_type": "markdown",
   "metadata": {},
   "source": [
    "## Player Count"
   ]
  },
  {
   "cell_type": "code",
   "execution_count": 2,
   "metadata": {},
   "outputs": [
    {
     "data": {
      "text/html": [
       "<div>\n",
       "<style scoped>\n",
       "    .dataframe tbody tr th:only-of-type {\n",
       "        vertical-align: middle;\n",
       "    }\n",
       "\n",
       "    .dataframe tbody tr th {\n",
       "        vertical-align: top;\n",
       "    }\n",
       "\n",
       "    .dataframe thead th {\n",
       "        text-align: right;\n",
       "    }\n",
       "</style>\n",
       "<table border=\"1\" class=\"dataframe\">\n",
       "  <thead>\n",
       "    <tr style=\"text-align: right;\">\n",
       "      <th></th>\n",
       "      <th>Total Players</th>\n",
       "    </tr>\n",
       "  </thead>\n",
       "  <tbody>\n",
       "    <tr>\n",
       "      <th>0</th>\n",
       "      <td>576</td>\n",
       "    </tr>\n",
       "  </tbody>\n",
       "</table>\n",
       "</div>"
      ],
      "text/plain": [
       "   Total Players\n",
       "0            576"
      ]
     },
     "execution_count": 2,
     "metadata": {},
     "output_type": "execute_result"
    },
    {
     "data": {
      "application/javascript": [
       "\n",
       "            setTimeout(function() {\n",
       "                var nbb_cell_id = 2;\n",
       "                var nbb_unformatted_code = \"total_players_df = pd.DataFrame({\\n    \\\"Total Players\\\": [df[\\\"SN\\\"].nunique()]\\n})\\ntotal_players_df\";\n",
       "                var nbb_formatted_code = \"total_players_df = pd.DataFrame({\\\"Total Players\\\": [df[\\\"SN\\\"].nunique()]})\\ntotal_players_df\";\n",
       "                var nbb_cells = Jupyter.notebook.get_cells();\n",
       "                for (var i = 0; i < nbb_cells.length; ++i) {\n",
       "                    if (nbb_cells[i].input_prompt_number == nbb_cell_id) {\n",
       "                        if (nbb_cells[i].get_text() == nbb_unformatted_code) {\n",
       "                             nbb_cells[i].set_text(nbb_formatted_code);\n",
       "                        }\n",
       "                        break;\n",
       "                    }\n",
       "                }\n",
       "            }, 500);\n",
       "            "
      ],
      "text/plain": [
       "<IPython.core.display.Javascript object>"
      ]
     },
     "metadata": {},
     "output_type": "display_data"
    }
   ],
   "source": [
    "total_players_df = pd.DataFrame({\n",
    "    \"Total Players\": [df[\"SN\"].nunique()]\n",
    "})\n",
    "total_players_df"
   ]
  },
  {
   "cell_type": "markdown",
   "metadata": {},
   "source": [
    "## Purchasing Analysis (Total)"
   ]
  },
  {
   "cell_type": "code",
   "execution_count": 3,
   "metadata": {},
   "outputs": [
    {
     "data": {
      "text/html": [
       "<div>\n",
       "<style scoped>\n",
       "    .dataframe tbody tr th:only-of-type {\n",
       "        vertical-align: middle;\n",
       "    }\n",
       "\n",
       "    .dataframe tbody tr th {\n",
       "        vertical-align: top;\n",
       "    }\n",
       "\n",
       "    .dataframe thead th {\n",
       "        text-align: right;\n",
       "    }\n",
       "</style>\n",
       "<table border=\"1\" class=\"dataframe\">\n",
       "  <thead>\n",
       "    <tr style=\"text-align: right;\">\n",
       "      <th></th>\n",
       "      <th>Number of Unique Items</th>\n",
       "      <th>Average Price</th>\n",
       "      <th>Number of Purchases</th>\n",
       "      <th>Total Revenue</th>\n",
       "    </tr>\n",
       "  </thead>\n",
       "  <tbody>\n",
       "    <tr>\n",
       "      <th>0</th>\n",
       "      <td>183</td>\n",
       "      <td>$3.05</td>\n",
       "      <td>780</td>\n",
       "      <td>$2379.77</td>\n",
       "    </tr>\n",
       "  </tbody>\n",
       "</table>\n",
       "</div>"
      ],
      "text/plain": [
       "   Number of Unique Items Average Price  Number of Purchases Total Revenue\n",
       "0                     183         $3.05                  780      $2379.77"
      ]
     },
     "execution_count": 3,
     "metadata": {},
     "output_type": "execute_result"
    },
    {
     "data": {
      "application/javascript": [
       "\n",
       "            setTimeout(function() {\n",
       "                var nbb_cell_id = 3;\n",
       "                var nbb_unformatted_code = \"#aggregate and create variables for the new dataframe to display\\nunique_items = df[\\\"Item ID\\\"].nunique()\\navg_price = round(df[\\\"Price\\\"].mean(), 2)\\ntotal_purchases = df[\\\"Purchase ID\\\"].count()\\ntotal_revenue = df[\\\"Price\\\"].sum()\\n\\npurchase_analysis_df = pd.DataFrame({\\n    \\\"Number of Unique Items\\\": [unique_items],\\n    \\\"Average Price\\\" : [(f\\\"${avg_price}\\\")],\\n    \\\"Number of Purchases\\\": [total_purchases],\\n    \\\"Total Revenue\\\" : [(f\\\"${total_revenue}\\\")]\\n})\\npurchase_analysis_df\";\n",
       "                var nbb_formatted_code = \"# aggregate and create variables for the new dataframe to display\\nunique_items = df[\\\"Item ID\\\"].nunique()\\navg_price = round(df[\\\"Price\\\"].mean(), 2)\\ntotal_purchases = df[\\\"Purchase ID\\\"].count()\\ntotal_revenue = df[\\\"Price\\\"].sum()\\n\\npurchase_analysis_df = pd.DataFrame(\\n    {\\n        \\\"Number of Unique Items\\\": [unique_items],\\n        \\\"Average Price\\\": [(f\\\"${avg_price}\\\")],\\n        \\\"Number of Purchases\\\": [total_purchases],\\n        \\\"Total Revenue\\\": [(f\\\"${total_revenue}\\\")],\\n    }\\n)\\npurchase_analysis_df\";\n",
       "                var nbb_cells = Jupyter.notebook.get_cells();\n",
       "                for (var i = 0; i < nbb_cells.length; ++i) {\n",
       "                    if (nbb_cells[i].input_prompt_number == nbb_cell_id) {\n",
       "                        if (nbb_cells[i].get_text() == nbb_unformatted_code) {\n",
       "                             nbb_cells[i].set_text(nbb_formatted_code);\n",
       "                        }\n",
       "                        break;\n",
       "                    }\n",
       "                }\n",
       "            }, 500);\n",
       "            "
      ],
      "text/plain": [
       "<IPython.core.display.Javascript object>"
      ]
     },
     "metadata": {},
     "output_type": "display_data"
    }
   ],
   "source": [
    "#aggregate and create variables for the new dataframe to display\n",
    "unique_items = df[\"Item ID\"].nunique()\n",
    "avg_price = round(df[\"Price\"].mean(), 2)\n",
    "total_purchases = df[\"Purchase ID\"].count()\n",
    "total_revenue = df[\"Price\"].sum()\n",
    "\n",
    "purchase_analysis_df = pd.DataFrame({\n",
    "    \"Number of Unique Items\": [unique_items],\n",
    "    \"Average Price\" : [(f\"${avg_price}\")],\n",
    "    \"Number of Purchases\": [total_purchases],\n",
    "    \"Total Revenue\" : [(f\"${total_revenue}\")]\n",
    "})\n",
    "purchase_analysis_df"
   ]
  },
  {
   "cell_type": "markdown",
   "metadata": {},
   "source": [
    "## Gender Demographics"
   ]
  },
  {
   "cell_type": "code",
   "execution_count": 4,
   "metadata": {},
   "outputs": [
    {
     "data": {
      "text/html": [
       "<style  type=\"text/css\" >\n",
       "</style><table id=\"T_d444a8ec_f2c2_11ea_8989_42010a8a0002\" ><thead>    <tr>        <th class=\"blank level0\" ></th>        <th class=\"col_heading level0 col0\" >Total Count</th>        <th class=\"col_heading level0 col1\" >Percentage of Players</th>    </tr>    <tr>        <th class=\"index_name level0\" >Gender</th>        <th class=\"blank\" ></th>        <th class=\"blank\" ></th>    </tr></thead><tbody>\n",
       "                <tr>\n",
       "                        <th id=\"T_d444a8ec_f2c2_11ea_8989_42010a8a0002level0_row0\" class=\"row_heading level0 row0\" >Female</th>\n",
       "                        <td id=\"T_d444a8ec_f2c2_11ea_8989_42010a8a0002row0_col0\" class=\"data row0 col0\" >81</td>\n",
       "                        <td id=\"T_d444a8ec_f2c2_11ea_8989_42010a8a0002row0_col1\" class=\"data row0 col1\" >14.06%</td>\n",
       "            </tr>\n",
       "            <tr>\n",
       "                        <th id=\"T_d444a8ec_f2c2_11ea_8989_42010a8a0002level0_row1\" class=\"row_heading level0 row1\" >Male</th>\n",
       "                        <td id=\"T_d444a8ec_f2c2_11ea_8989_42010a8a0002row1_col0\" class=\"data row1 col0\" >484</td>\n",
       "                        <td id=\"T_d444a8ec_f2c2_11ea_8989_42010a8a0002row1_col1\" class=\"data row1 col1\" >84.03%</td>\n",
       "            </tr>\n",
       "            <tr>\n",
       "                        <th id=\"T_d444a8ec_f2c2_11ea_8989_42010a8a0002level0_row2\" class=\"row_heading level0 row2\" >Other / Non-Disclosed</th>\n",
       "                        <td id=\"T_d444a8ec_f2c2_11ea_8989_42010a8a0002row2_col0\" class=\"data row2 col0\" >11</td>\n",
       "                        <td id=\"T_d444a8ec_f2c2_11ea_8989_42010a8a0002row2_col1\" class=\"data row2 col1\" >1.91%</td>\n",
       "            </tr>\n",
       "    </tbody></table>"
      ],
      "text/plain": [
       "<pandas.io.formats.style.Styler at 0x7f19b45693d0>"
      ]
     },
     "execution_count": 4,
     "metadata": {},
     "output_type": "execute_result"
    },
    {
     "data": {
      "application/javascript": [
       "\n",
       "            setTimeout(function() {\n",
       "                var nbb_cell_id = 4;\n",
       "                var nbb_unformatted_code = \"#create df with screen names and gender, then drop duplicate screen names\\ngender_df = df[[\\\"SN\\\", \\\"Gender\\\"]]\\ngender_df = gender_df.drop_duplicates(subset=[\\\"SN\\\"])\\n\\n#count each gender for unique players - not overall\\nunique_gender_count = gender_df.groupby([\\\"Gender\\\"])[\\\"Gender\\\"].count()\\n\\n# #calculate percentages\\ngender_percent = round(unique_gender_count / unique_gender_count.sum() * 100, 2)\\n\\ngender_dems = pd.DataFrame({\\n    \\\"Total Count\\\": unique_gender_count,\\n    \\\"Percentage of Players\\\": gender_percent\\n})\\n\\n#format to add percentage\\ngender_dems.style.format({\\\"Percentage of Players\\\": \\\"{:.2f}%\\\"})\";\n",
       "                var nbb_formatted_code = \"# create df with screen names and gender, then drop duplicate screen names\\ngender_df = df[[\\\"SN\\\", \\\"Gender\\\"]]\\ngender_df = gender_df.drop_duplicates(subset=[\\\"SN\\\"])\\n\\n# count each gender for unique players - not overall\\nunique_gender_count = gender_df.groupby([\\\"Gender\\\"])[\\\"Gender\\\"].count()\\n\\n# #calculate percentages\\ngender_percent = round(unique_gender_count / unique_gender_count.sum() * 100, 2)\\n\\ngender_dems = pd.DataFrame(\\n    {\\\"Total Count\\\": unique_gender_count, \\\"Percentage of Players\\\": gender_percent}\\n)\\n\\n# format to add percentage\\ngender_dems.style.format({\\\"Percentage of Players\\\": \\\"{:.2f}%\\\"})\";\n",
       "                var nbb_cells = Jupyter.notebook.get_cells();\n",
       "                for (var i = 0; i < nbb_cells.length; ++i) {\n",
       "                    if (nbb_cells[i].input_prompt_number == nbb_cell_id) {\n",
       "                        if (nbb_cells[i].get_text() == nbb_unformatted_code) {\n",
       "                             nbb_cells[i].set_text(nbb_formatted_code);\n",
       "                        }\n",
       "                        break;\n",
       "                    }\n",
       "                }\n",
       "            }, 500);\n",
       "            "
      ],
      "text/plain": [
       "<IPython.core.display.Javascript object>"
      ]
     },
     "metadata": {},
     "output_type": "display_data"
    }
   ],
   "source": [
    "#create df with screen names and gender, then drop duplicate screen names\n",
    "gender_df = df[[\"SN\", \"Gender\"]]\n",
    "gender_df = gender_df.drop_duplicates(subset=[\"SN\"])\n",
    "\n",
    "#count each gender for unique players - not overall\n",
    "unique_gender_count = gender_df.groupby([\"Gender\"])[\"Gender\"].count()\n",
    "\n",
    "# #calculate percentages\n",
    "gender_percent = round(unique_gender_count / unique_gender_count.sum() * 100, 2)\n",
    "\n",
    "gender_dems = pd.DataFrame({\n",
    "    \"Total Count\": unique_gender_count,\n",
    "    \"Percentage of Players\": gender_percent\n",
    "})\n",
    "\n",
    "#format to add percentage\n",
    "gender_dems.style.format({\"Percentage of Players\": \"{:.2f}%\"})"
   ]
  },
  {
   "cell_type": "markdown",
   "metadata": {},
   "source": [
    "## Purchasing Analysis (Gender)"
   ]
  },
  {
   "cell_type": "code",
   "execution_count": 5,
   "metadata": {},
   "outputs": [
    {
     "data": {
      "text/html": [
       "<style  type=\"text/css\" >\n",
       "</style><table id=\"T_d44f51d4_f2c2_11ea_8989_42010a8a0002\" ><thead>    <tr>        <th class=\"blank level0\" ></th>        <th class=\"col_heading level0 col0\" >Purchase Count</th>        <th class=\"col_heading level0 col1\" >Average Purchase Price</th>        <th class=\"col_heading level0 col2\" >Total Purchase Value</th>        <th class=\"col_heading level0 col3\" >Avg Total Purchase per Person</th>    </tr>    <tr>        <th class=\"index_name level0\" >Gender</th>        <th class=\"blank\" ></th>        <th class=\"blank\" ></th>        <th class=\"blank\" ></th>        <th class=\"blank\" ></th>    </tr></thead><tbody>\n",
       "                <tr>\n",
       "                        <th id=\"T_d44f51d4_f2c2_11ea_8989_42010a8a0002level0_row0\" class=\"row_heading level0 row0\" >Female</th>\n",
       "                        <td id=\"T_d44f51d4_f2c2_11ea_8989_42010a8a0002row0_col0\" class=\"data row0 col0\" >113</td>\n",
       "                        <td id=\"T_d44f51d4_f2c2_11ea_8989_42010a8a0002row0_col1\" class=\"data row0 col1\" >$3.20</td>\n",
       "                        <td id=\"T_d44f51d4_f2c2_11ea_8989_42010a8a0002row0_col2\" class=\"data row0 col2\" >$361.94</td>\n",
       "                        <td id=\"T_d44f51d4_f2c2_11ea_8989_42010a8a0002row0_col3\" class=\"data row0 col3\" >$4.47</td>\n",
       "            </tr>\n",
       "            <tr>\n",
       "                        <th id=\"T_d44f51d4_f2c2_11ea_8989_42010a8a0002level0_row1\" class=\"row_heading level0 row1\" >Male</th>\n",
       "                        <td id=\"T_d44f51d4_f2c2_11ea_8989_42010a8a0002row1_col0\" class=\"data row1 col0\" >652</td>\n",
       "                        <td id=\"T_d44f51d4_f2c2_11ea_8989_42010a8a0002row1_col1\" class=\"data row1 col1\" >$3.02</td>\n",
       "                        <td id=\"T_d44f51d4_f2c2_11ea_8989_42010a8a0002row1_col2\" class=\"data row1 col2\" >$1,967.64</td>\n",
       "                        <td id=\"T_d44f51d4_f2c2_11ea_8989_42010a8a0002row1_col3\" class=\"data row1 col3\" >$4.07</td>\n",
       "            </tr>\n",
       "            <tr>\n",
       "                        <th id=\"T_d44f51d4_f2c2_11ea_8989_42010a8a0002level0_row2\" class=\"row_heading level0 row2\" >Other / Non-Disclosed</th>\n",
       "                        <td id=\"T_d44f51d4_f2c2_11ea_8989_42010a8a0002row2_col0\" class=\"data row2 col0\" >15</td>\n",
       "                        <td id=\"T_d44f51d4_f2c2_11ea_8989_42010a8a0002row2_col1\" class=\"data row2 col1\" >$3.35</td>\n",
       "                        <td id=\"T_d44f51d4_f2c2_11ea_8989_42010a8a0002row2_col2\" class=\"data row2 col2\" >$50.19</td>\n",
       "                        <td id=\"T_d44f51d4_f2c2_11ea_8989_42010a8a0002row2_col3\" class=\"data row2 col3\" >$4.56</td>\n",
       "            </tr>\n",
       "    </tbody></table>"
      ],
      "text/plain": [
       "<pandas.io.formats.style.Styler at 0x7f19b4569310>"
      ]
     },
     "execution_count": 5,
     "metadata": {},
     "output_type": "execute_result"
    },
    {
     "data": {
      "application/javascript": [
       "\n",
       "            setTimeout(function() {\n",
       "                var nbb_cell_id = 5;\n",
       "                var nbb_unformatted_code = \"#calculate count for each gender \\ngender_purchases = df.groupby([\\\"Gender\\\"])[\\\"Gender\\\"].count()\\n\\n#calculate total purchase each gender\\ngender_total = df.groupby([\\\"Gender\\\"])[\\\"Price\\\"].sum()\\n\\n#calculate average purchase price for each gender\\ngender_avg = round(gender_total / gender_purchases, 2)\\n\\n#calculate purchase per person for each gender - re-using count variable from gender demographics\\nper_person_gender = round((gender_total / unique_gender_count), 2)\\n\\n#crate dataframe for output\\npurchase_gender_df = pd.DataFrame({\\n    \\\"Purchase Count\\\": gender_purchases,\\n    \\\"Average Purchase Price\\\": gender_avg,\\n    \\\"Total Purchase Value\\\": gender_total,\\n    \\\"Avg Total Purchase per Person\\\": per_person_gender\\n})\\n\\n#format style to add dollar signs\\npurchase_gender_df.style.format({\\\"Average Purchase Price\\\": \\\"${:,.2f}\\\", \\n                          \\\"Total Purchase Value\\\": \\\"${:,.2f}\\\",\\n                          \\\"Avg Total Purchase per Person\\\": \\\"${:,.2f}\\\"})\";\n",
       "                var nbb_formatted_code = \"# calculate count for each gender\\ngender_purchases = df.groupby([\\\"Gender\\\"])[\\\"Gender\\\"].count()\\n\\n# calculate total purchase each gender\\ngender_total = df.groupby([\\\"Gender\\\"])[\\\"Price\\\"].sum()\\n\\n# calculate average purchase price for each gender\\ngender_avg = round(gender_total / gender_purchases, 2)\\n\\n# calculate purchase per person for each gender - re-using count variable from gender demographics\\nper_person_gender = round((gender_total / unique_gender_count), 2)\\n\\n# crate dataframe for output\\npurchase_gender_df = pd.DataFrame(\\n    {\\n        \\\"Purchase Count\\\": gender_purchases,\\n        \\\"Average Purchase Price\\\": gender_avg,\\n        \\\"Total Purchase Value\\\": gender_total,\\n        \\\"Avg Total Purchase per Person\\\": per_person_gender,\\n    }\\n)\\n\\n# format style to add dollar signs\\npurchase_gender_df.style.format(\\n    {\\n        \\\"Average Purchase Price\\\": \\\"${:,.2f}\\\",\\n        \\\"Total Purchase Value\\\": \\\"${:,.2f}\\\",\\n        \\\"Avg Total Purchase per Person\\\": \\\"${:,.2f}\\\",\\n    }\\n)\";\n",
       "                var nbb_cells = Jupyter.notebook.get_cells();\n",
       "                for (var i = 0; i < nbb_cells.length; ++i) {\n",
       "                    if (nbb_cells[i].input_prompt_number == nbb_cell_id) {\n",
       "                        if (nbb_cells[i].get_text() == nbb_unformatted_code) {\n",
       "                             nbb_cells[i].set_text(nbb_formatted_code);\n",
       "                        }\n",
       "                        break;\n",
       "                    }\n",
       "                }\n",
       "            }, 500);\n",
       "            "
      ],
      "text/plain": [
       "<IPython.core.display.Javascript object>"
      ]
     },
     "metadata": {},
     "output_type": "display_data"
    }
   ],
   "source": [
    "#calculate count for each gender \n",
    "gender_purchases = df.groupby([\"Gender\"])[\"Gender\"].count()\n",
    "\n",
    "#calculate total purchase each gender\n",
    "gender_total = df.groupby([\"Gender\"])[\"Price\"].sum()\n",
    "\n",
    "#calculate average purchase price for each gender\n",
    "gender_avg = round(gender_total / gender_purchases, 2)\n",
    "\n",
    "#calculate purchase per person for each gender - re-using count variable from gender demographics\n",
    "per_person_gender = round((gender_total / unique_gender_count), 2)\n",
    "\n",
    "#crate dataframe for output\n",
    "purchase_gender_df = pd.DataFrame({\n",
    "    \"Purchase Count\": gender_purchases,\n",
    "    \"Average Purchase Price\": gender_avg,\n",
    "    \"Total Purchase Value\": gender_total,\n",
    "    \"Avg Total Purchase per Person\": per_person_gender\n",
    "})\n",
    "\n",
    "#format style to add dollar signs\n",
    "purchase_gender_df.style.format({\"Average Purchase Price\": \"${:,.2f}\", \n",
    "                          \"Total Purchase Value\": \"${:,.2f}\",\n",
    "                          \"Avg Total Purchase per Person\": \"${:,.2f}\"})"
   ]
  },
  {
   "cell_type": "markdown",
   "metadata": {},
   "source": [
    "## Age Demographics"
   ]
  },
  {
   "cell_type": "code",
   "execution_count": 6,
   "metadata": {},
   "outputs": [
    {
     "data": {
      "text/html": [
       "<style  type=\"text/css\" >\n",
       "</style><table id=\"T_d45ec43e_f2c2_11ea_8989_42010a8a0002\" ><thead>    <tr>        <th class=\"blank level0\" ></th>        <th class=\"col_heading level0 col0\" >Total Count</th>        <th class=\"col_heading level0 col1\" >Percentage of Players</th>    </tr>    <tr>        <th class=\"index_name level0\" >Age Range</th>        <th class=\"blank\" ></th>        <th class=\"blank\" ></th>    </tr></thead><tbody>\n",
       "                <tr>\n",
       "                        <th id=\"T_d45ec43e_f2c2_11ea_8989_42010a8a0002level0_row0\" class=\"row_heading level0 row0\" ><10</th>\n",
       "                        <td id=\"T_d45ec43e_f2c2_11ea_8989_42010a8a0002row0_col0\" class=\"data row0 col0\" >17</td>\n",
       "                        <td id=\"T_d45ec43e_f2c2_11ea_8989_42010a8a0002row0_col1\" class=\"data row0 col1\" >2.95%</td>\n",
       "            </tr>\n",
       "            <tr>\n",
       "                        <th id=\"T_d45ec43e_f2c2_11ea_8989_42010a8a0002level0_row1\" class=\"row_heading level0 row1\" >10-14</th>\n",
       "                        <td id=\"T_d45ec43e_f2c2_11ea_8989_42010a8a0002row1_col0\" class=\"data row1 col0\" >22</td>\n",
       "                        <td id=\"T_d45ec43e_f2c2_11ea_8989_42010a8a0002row1_col1\" class=\"data row1 col1\" >3.82%</td>\n",
       "            </tr>\n",
       "            <tr>\n",
       "                        <th id=\"T_d45ec43e_f2c2_11ea_8989_42010a8a0002level0_row2\" class=\"row_heading level0 row2\" >15-19</th>\n",
       "                        <td id=\"T_d45ec43e_f2c2_11ea_8989_42010a8a0002row2_col0\" class=\"data row2 col0\" >107</td>\n",
       "                        <td id=\"T_d45ec43e_f2c2_11ea_8989_42010a8a0002row2_col1\" class=\"data row2 col1\" >18.58%</td>\n",
       "            </tr>\n",
       "            <tr>\n",
       "                        <th id=\"T_d45ec43e_f2c2_11ea_8989_42010a8a0002level0_row3\" class=\"row_heading level0 row3\" >20-24</th>\n",
       "                        <td id=\"T_d45ec43e_f2c2_11ea_8989_42010a8a0002row3_col0\" class=\"data row3 col0\" >258</td>\n",
       "                        <td id=\"T_d45ec43e_f2c2_11ea_8989_42010a8a0002row3_col1\" class=\"data row3 col1\" >44.79%</td>\n",
       "            </tr>\n",
       "            <tr>\n",
       "                        <th id=\"T_d45ec43e_f2c2_11ea_8989_42010a8a0002level0_row4\" class=\"row_heading level0 row4\" >25-29</th>\n",
       "                        <td id=\"T_d45ec43e_f2c2_11ea_8989_42010a8a0002row4_col0\" class=\"data row4 col0\" >77</td>\n",
       "                        <td id=\"T_d45ec43e_f2c2_11ea_8989_42010a8a0002row4_col1\" class=\"data row4 col1\" >13.37%</td>\n",
       "            </tr>\n",
       "            <tr>\n",
       "                        <th id=\"T_d45ec43e_f2c2_11ea_8989_42010a8a0002level0_row5\" class=\"row_heading level0 row5\" >30-34</th>\n",
       "                        <td id=\"T_d45ec43e_f2c2_11ea_8989_42010a8a0002row5_col0\" class=\"data row5 col0\" >52</td>\n",
       "                        <td id=\"T_d45ec43e_f2c2_11ea_8989_42010a8a0002row5_col1\" class=\"data row5 col1\" >9.03%</td>\n",
       "            </tr>\n",
       "            <tr>\n",
       "                        <th id=\"T_d45ec43e_f2c2_11ea_8989_42010a8a0002level0_row6\" class=\"row_heading level0 row6\" >35-30</th>\n",
       "                        <td id=\"T_d45ec43e_f2c2_11ea_8989_42010a8a0002row6_col0\" class=\"data row6 col0\" >31</td>\n",
       "                        <td id=\"T_d45ec43e_f2c2_11ea_8989_42010a8a0002row6_col1\" class=\"data row6 col1\" >5.38%</td>\n",
       "            </tr>\n",
       "            <tr>\n",
       "                        <th id=\"T_d45ec43e_f2c2_11ea_8989_42010a8a0002level0_row7\" class=\"row_heading level0 row7\" >40+</th>\n",
       "                        <td id=\"T_d45ec43e_f2c2_11ea_8989_42010a8a0002row7_col0\" class=\"data row7 col0\" >12</td>\n",
       "                        <td id=\"T_d45ec43e_f2c2_11ea_8989_42010a8a0002row7_col1\" class=\"data row7 col1\" >2.08%</td>\n",
       "            </tr>\n",
       "    </tbody></table>"
      ],
      "text/plain": [
       "<pandas.io.formats.style.Styler at 0x7f19b46973d0>"
      ]
     },
     "execution_count": 6,
     "metadata": {},
     "output_type": "execute_result"
    },
    {
     "data": {
      "application/javascript": [
       "\n",
       "            setTimeout(function() {\n",
       "                var nbb_cell_id = 6;\n",
       "                var nbb_unformatted_code = \"#establish bins for ages in 4 year increments, max age is 45\\ndf[\\\"Age Range\\\"] = pd.cut(\\n    df[\\\"Age\\\"], \\n    bins = [0, 9, 14, 19, 24, 29, 34, 39, 45],\\n    labels = [\\\"<10\\\", \\\"10-14\\\", \\\"15-19\\\", \\\"20-24\\\", \\\"25-29\\\", \\\"30-34\\\", \\\"35-30\\\", \\\"40+\\\"]\\n)\\n\\n#create dataframe with dropped duplicates\\nage_dems_df = df[[\\\"SN\\\", \\\"Age Range\\\", \\\"Age\\\"]]\\nage_dems_df = age_dems_df.drop_duplicates(subset=[\\\"SN\\\"])\\n\\n#count by age range\\nage_count = age_dems_df.groupby([\\\"Age Range\\\"])[\\\"Age\\\"].count()\\n\\n#calculate percentage of age ranges\\nage_percent = round(age_count / age_count.sum() * 100, 2)\\n\\n#create dataframe for output\\nage_df = pd.DataFrame({\\n    \\\"Total Count\\\": age_count,\\n    \\\"Percentage of Players\\\": age_percent\\n})\\n\\n#format to add percentage\\nage_df.style.format({\\\"Percentage of Players\\\": \\\"{:.2f}%\\\"})\";\n",
       "                var nbb_formatted_code = \"# establish bins for ages in 4 year increments, max age is 45\\ndf[\\\"Age Range\\\"] = pd.cut(\\n    df[\\\"Age\\\"],\\n    bins=[0, 9, 14, 19, 24, 29, 34, 39, 45],\\n    labels=[\\\"<10\\\", \\\"10-14\\\", \\\"15-19\\\", \\\"20-24\\\", \\\"25-29\\\", \\\"30-34\\\", \\\"35-30\\\", \\\"40+\\\"],\\n)\\n\\n# create dataframe with dropped duplicates\\nage_dems_df = df[[\\\"SN\\\", \\\"Age Range\\\", \\\"Age\\\"]]\\nage_dems_df = age_dems_df.drop_duplicates(subset=[\\\"SN\\\"])\\n\\n# count by age range\\nage_count = age_dems_df.groupby([\\\"Age Range\\\"])[\\\"Age\\\"].count()\\n\\n# calculate percentage of age ranges\\nage_percent = round(age_count / age_count.sum() * 100, 2)\\n\\n# create dataframe for output\\nage_df = pd.DataFrame({\\\"Total Count\\\": age_count, \\\"Percentage of Players\\\": age_percent})\\n\\n# format to add percentage\\nage_df.style.format({\\\"Percentage of Players\\\": \\\"{:.2f}%\\\"})\";\n",
       "                var nbb_cells = Jupyter.notebook.get_cells();\n",
       "                for (var i = 0; i < nbb_cells.length; ++i) {\n",
       "                    if (nbb_cells[i].input_prompt_number == nbb_cell_id) {\n",
       "                        if (nbb_cells[i].get_text() == nbb_unformatted_code) {\n",
       "                             nbb_cells[i].set_text(nbb_formatted_code);\n",
       "                        }\n",
       "                        break;\n",
       "                    }\n",
       "                }\n",
       "            }, 500);\n",
       "            "
      ],
      "text/plain": [
       "<IPython.core.display.Javascript object>"
      ]
     },
     "metadata": {},
     "output_type": "display_data"
    }
   ],
   "source": [
    "#establish bins for ages in 4 year increments, max age is 45\n",
    "df[\"Age Range\"] = pd.cut(\n",
    "    df[\"Age\"], \n",
    "    bins = [0, 9, 14, 19, 24, 29, 34, 39, 45],\n",
    "    labels = [\"<10\", \"10-14\", \"15-19\", \"20-24\", \"25-29\", \"30-34\", \"35-30\", \"40+\"]\n",
    ")\n",
    "\n",
    "#create dataframe with dropped duplicates\n",
    "age_dems_df = df[[\"SN\", \"Age Range\", \"Age\"]]\n",
    "age_dems_df = age_dems_df.drop_duplicates(subset=[\"SN\"])\n",
    "\n",
    "#count by age range\n",
    "age_count = age_dems_df.groupby([\"Age Range\"])[\"Age\"].count()\n",
    "\n",
    "#calculate percentage of age ranges\n",
    "age_percent = round(age_count / age_count.sum() * 100, 2)\n",
    "\n",
    "#create dataframe for output\n",
    "age_df = pd.DataFrame({\n",
    "    \"Total Count\": age_count,\n",
    "    \"Percentage of Players\": age_percent\n",
    "})\n",
    "\n",
    "#format to add percentage\n",
    "age_df.style.format({\"Percentage of Players\": \"{:.2f}%\"})"
   ]
  },
  {
   "cell_type": "markdown",
   "metadata": {},
   "source": [
    "## Purchasing Analysis (Age)"
   ]
  },
  {
   "cell_type": "code",
   "execution_count": 7,
   "metadata": {},
   "outputs": [
    {
     "data": {
      "text/html": [
       "<style  type=\"text/css\" >\n",
       "</style><table id=\"T_d46da2d8_f2c2_11ea_8989_42010a8a0002\" ><thead>    <tr>        <th class=\"blank level0\" ></th>        <th class=\"col_heading level0 col0\" >Purchase Count</th>        <th class=\"col_heading level0 col1\" >Average Purchase Price</th>        <th class=\"col_heading level0 col2\" >Total Purchase Value</th>        <th class=\"col_heading level0 col3\" >Avg Total Purchase per Person</th>    </tr>    <tr>        <th class=\"index_name level0\" >Age Range</th>        <th class=\"blank\" ></th>        <th class=\"blank\" ></th>        <th class=\"blank\" ></th>        <th class=\"blank\" ></th>    </tr></thead><tbody>\n",
       "                <tr>\n",
       "                        <th id=\"T_d46da2d8_f2c2_11ea_8989_42010a8a0002level0_row0\" class=\"row_heading level0 row0\" ><10</th>\n",
       "                        <td id=\"T_d46da2d8_f2c2_11ea_8989_42010a8a0002row0_col0\" class=\"data row0 col0\" >23</td>\n",
       "                        <td id=\"T_d46da2d8_f2c2_11ea_8989_42010a8a0002row0_col1\" class=\"data row0 col1\" >$3.35</td>\n",
       "                        <td id=\"T_d46da2d8_f2c2_11ea_8989_42010a8a0002row0_col2\" class=\"data row0 col2\" >$77.13</td>\n",
       "                        <td id=\"T_d46da2d8_f2c2_11ea_8989_42010a8a0002row0_col3\" class=\"data row0 col3\" >$4.54</td>\n",
       "            </tr>\n",
       "            <tr>\n",
       "                        <th id=\"T_d46da2d8_f2c2_11ea_8989_42010a8a0002level0_row1\" class=\"row_heading level0 row1\" >10-14</th>\n",
       "                        <td id=\"T_d46da2d8_f2c2_11ea_8989_42010a8a0002row1_col0\" class=\"data row1 col0\" >28</td>\n",
       "                        <td id=\"T_d46da2d8_f2c2_11ea_8989_42010a8a0002row1_col1\" class=\"data row1 col1\" >$2.96</td>\n",
       "                        <td id=\"T_d46da2d8_f2c2_11ea_8989_42010a8a0002row1_col2\" class=\"data row1 col2\" >$82.78</td>\n",
       "                        <td id=\"T_d46da2d8_f2c2_11ea_8989_42010a8a0002row1_col3\" class=\"data row1 col3\" >$3.76</td>\n",
       "            </tr>\n",
       "            <tr>\n",
       "                        <th id=\"T_d46da2d8_f2c2_11ea_8989_42010a8a0002level0_row2\" class=\"row_heading level0 row2\" >15-19</th>\n",
       "                        <td id=\"T_d46da2d8_f2c2_11ea_8989_42010a8a0002row2_col0\" class=\"data row2 col0\" >136</td>\n",
       "                        <td id=\"T_d46da2d8_f2c2_11ea_8989_42010a8a0002row2_col1\" class=\"data row2 col1\" >$3.04</td>\n",
       "                        <td id=\"T_d46da2d8_f2c2_11ea_8989_42010a8a0002row2_col2\" class=\"data row2 col2\" >$412.89</td>\n",
       "                        <td id=\"T_d46da2d8_f2c2_11ea_8989_42010a8a0002row2_col3\" class=\"data row2 col3\" >$3.86</td>\n",
       "            </tr>\n",
       "            <tr>\n",
       "                        <th id=\"T_d46da2d8_f2c2_11ea_8989_42010a8a0002level0_row3\" class=\"row_heading level0 row3\" >20-24</th>\n",
       "                        <td id=\"T_d46da2d8_f2c2_11ea_8989_42010a8a0002row3_col0\" class=\"data row3 col0\" >365</td>\n",
       "                        <td id=\"T_d46da2d8_f2c2_11ea_8989_42010a8a0002row3_col1\" class=\"data row3 col1\" >$3.05</td>\n",
       "                        <td id=\"T_d46da2d8_f2c2_11ea_8989_42010a8a0002row3_col2\" class=\"data row3 col2\" >$1,114.06</td>\n",
       "                        <td id=\"T_d46da2d8_f2c2_11ea_8989_42010a8a0002row3_col3\" class=\"data row3 col3\" >$4.32</td>\n",
       "            </tr>\n",
       "            <tr>\n",
       "                        <th id=\"T_d46da2d8_f2c2_11ea_8989_42010a8a0002level0_row4\" class=\"row_heading level0 row4\" >25-29</th>\n",
       "                        <td id=\"T_d46da2d8_f2c2_11ea_8989_42010a8a0002row4_col0\" class=\"data row4 col0\" >101</td>\n",
       "                        <td id=\"T_d46da2d8_f2c2_11ea_8989_42010a8a0002row4_col1\" class=\"data row4 col1\" >$2.90</td>\n",
       "                        <td id=\"T_d46da2d8_f2c2_11ea_8989_42010a8a0002row4_col2\" class=\"data row4 col2\" >$293.00</td>\n",
       "                        <td id=\"T_d46da2d8_f2c2_11ea_8989_42010a8a0002row4_col3\" class=\"data row4 col3\" >$3.81</td>\n",
       "            </tr>\n",
       "            <tr>\n",
       "                        <th id=\"T_d46da2d8_f2c2_11ea_8989_42010a8a0002level0_row5\" class=\"row_heading level0 row5\" >30-34</th>\n",
       "                        <td id=\"T_d46da2d8_f2c2_11ea_8989_42010a8a0002row5_col0\" class=\"data row5 col0\" >73</td>\n",
       "                        <td id=\"T_d46da2d8_f2c2_11ea_8989_42010a8a0002row5_col1\" class=\"data row5 col1\" >$2.93</td>\n",
       "                        <td id=\"T_d46da2d8_f2c2_11ea_8989_42010a8a0002row5_col2\" class=\"data row5 col2\" >$214.00</td>\n",
       "                        <td id=\"T_d46da2d8_f2c2_11ea_8989_42010a8a0002row5_col3\" class=\"data row5 col3\" >$4.12</td>\n",
       "            </tr>\n",
       "            <tr>\n",
       "                        <th id=\"T_d46da2d8_f2c2_11ea_8989_42010a8a0002level0_row6\" class=\"row_heading level0 row6\" >35-30</th>\n",
       "                        <td id=\"T_d46da2d8_f2c2_11ea_8989_42010a8a0002row6_col0\" class=\"data row6 col0\" >41</td>\n",
       "                        <td id=\"T_d46da2d8_f2c2_11ea_8989_42010a8a0002row6_col1\" class=\"data row6 col1\" >$3.60</td>\n",
       "                        <td id=\"T_d46da2d8_f2c2_11ea_8989_42010a8a0002row6_col2\" class=\"data row6 col2\" >$147.67</td>\n",
       "                        <td id=\"T_d46da2d8_f2c2_11ea_8989_42010a8a0002row6_col3\" class=\"data row6 col3\" >$4.76</td>\n",
       "            </tr>\n",
       "            <tr>\n",
       "                        <th id=\"T_d46da2d8_f2c2_11ea_8989_42010a8a0002level0_row7\" class=\"row_heading level0 row7\" >40+</th>\n",
       "                        <td id=\"T_d46da2d8_f2c2_11ea_8989_42010a8a0002row7_col0\" class=\"data row7 col0\" >13</td>\n",
       "                        <td id=\"T_d46da2d8_f2c2_11ea_8989_42010a8a0002row7_col1\" class=\"data row7 col1\" >$2.94</td>\n",
       "                        <td id=\"T_d46da2d8_f2c2_11ea_8989_42010a8a0002row7_col2\" class=\"data row7 col2\" >$38.24</td>\n",
       "                        <td id=\"T_d46da2d8_f2c2_11ea_8989_42010a8a0002row7_col3\" class=\"data row7 col3\" >$3.19</td>\n",
       "            </tr>\n",
       "    </tbody></table>"
      ],
      "text/plain": [
       "<pandas.io.formats.style.Styler at 0x7f19b4510110>"
      ]
     },
     "execution_count": 7,
     "metadata": {},
     "output_type": "execute_result"
    },
    {
     "data": {
      "application/javascript": [
       "\n",
       "            setTimeout(function() {\n",
       "                var nbb_cell_id = 7;\n",
       "                var nbb_unformatted_code = \"#count of purchases by age\\npurchase_count = df.groupby([\\\"Age Range\\\"])[\\\"Purchase ID\\\"].count()\\n\\n#calculate total purchase value by age\\ntotal_purchase = df.groupby([\\\"Age Range\\\"])[\\\"Price\\\"].sum()\\n\\n#calculate average purchase price by age\\navg_price = round(total_purchase / purchase_count, 2)\\n\\n#find unqiue users within each age range\\nuser_age = df.groupby([\\\"Age Range\\\"])[\\\"SN\\\"].nunique()\\n\\n#calculate avg total purchase per person by age\\navg_total = round(total_purchase / user_age, 2)\\n\\n#create dataframe for output\\npurchase_age = pd.DataFrame({\\n    \\\"Purchase Count\\\": purchase_count,\\n    \\\"Average Purchase Price\\\": avg_price,\\n    \\\"Total Purchase Value\\\": total_purchase,\\n    \\\"Avg Total Purchase per Person\\\": avg_total\\n})\\n\\n#formatting to add dollar dollar sign\\npurchase_age.style.format({\\\"Average Purchase Price\\\": \\\"${:,.2f}\\\", \\n                          \\\"Total Purchase Value\\\": \\\"${:,.2f}\\\",\\n                          \\\"Avg Total Purchase per Person\\\": \\\"${:,.2f}\\\"})\";\n",
       "                var nbb_formatted_code = \"# count of purchases by age\\npurchase_count = df.groupby([\\\"Age Range\\\"])[\\\"Purchase ID\\\"].count()\\n\\n# calculate total purchase value by age\\ntotal_purchase = df.groupby([\\\"Age Range\\\"])[\\\"Price\\\"].sum()\\n\\n# calculate average purchase price by age\\navg_price = round(total_purchase / purchase_count, 2)\\n\\n# find unqiue users within each age range\\nuser_age = df.groupby([\\\"Age Range\\\"])[\\\"SN\\\"].nunique()\\n\\n# calculate avg total purchase per person by age\\navg_total = round(total_purchase / user_age, 2)\\n\\n# create dataframe for output\\npurchase_age = pd.DataFrame(\\n    {\\n        \\\"Purchase Count\\\": purchase_count,\\n        \\\"Average Purchase Price\\\": avg_price,\\n        \\\"Total Purchase Value\\\": total_purchase,\\n        \\\"Avg Total Purchase per Person\\\": avg_total,\\n    }\\n)\\n\\n# formatting to add dollar dollar sign\\npurchase_age.style.format(\\n    {\\n        \\\"Average Purchase Price\\\": \\\"${:,.2f}\\\",\\n        \\\"Total Purchase Value\\\": \\\"${:,.2f}\\\",\\n        \\\"Avg Total Purchase per Person\\\": \\\"${:,.2f}\\\",\\n    }\\n)\";\n",
       "                var nbb_cells = Jupyter.notebook.get_cells();\n",
       "                for (var i = 0; i < nbb_cells.length; ++i) {\n",
       "                    if (nbb_cells[i].input_prompt_number == nbb_cell_id) {\n",
       "                        if (nbb_cells[i].get_text() == nbb_unformatted_code) {\n",
       "                             nbb_cells[i].set_text(nbb_formatted_code);\n",
       "                        }\n",
       "                        break;\n",
       "                    }\n",
       "                }\n",
       "            }, 500);\n",
       "            "
      ],
      "text/plain": [
       "<IPython.core.display.Javascript object>"
      ]
     },
     "metadata": {},
     "output_type": "display_data"
    }
   ],
   "source": [
    "#count of purchases by age\n",
    "purchase_count = df.groupby([\"Age Range\"])[\"Purchase ID\"].count()\n",
    "\n",
    "#calculate total purchase value by age\n",
    "total_purchase = df.groupby([\"Age Range\"])[\"Price\"].sum()\n",
    "\n",
    "#calculate average purchase price by age\n",
    "avg_price = round(total_purchase / purchase_count, 2)\n",
    "\n",
    "#find unqiue users within each age range\n",
    "user_age = df.groupby([\"Age Range\"])[\"SN\"].nunique()\n",
    "\n",
    "#calculate avg total purchase per person by age\n",
    "avg_total = round(total_purchase / user_age, 2)\n",
    "\n",
    "#create dataframe for output\n",
    "purchase_age = pd.DataFrame({\n",
    "    \"Purchase Count\": purchase_count,\n",
    "    \"Average Purchase Price\": avg_price,\n",
    "    \"Total Purchase Value\": total_purchase,\n",
    "    \"Avg Total Purchase per Person\": avg_total\n",
    "})\n",
    "\n",
    "#formatting to add dollar dollar sign\n",
    "purchase_age.style.format({\"Average Purchase Price\": \"${:,.2f}\", \n",
    "                          \"Total Purchase Value\": \"${:,.2f}\",\n",
    "                          \"Avg Total Purchase per Person\": \"${:,.2f}\"})"
   ]
  },
  {
   "cell_type": "markdown",
   "metadata": {},
   "source": [
    "## Top Spenders"
   ]
  },
  {
   "cell_type": "code",
   "execution_count": 8,
   "metadata": {},
   "outputs": [
    {
     "data": {
      "text/html": [
       "<style  type=\"text/css\" >\n",
       "</style><table id=\"T_d47a641e_f2c2_11ea_8989_42010a8a0002\" ><thead>    <tr>        <th class=\"blank level0\" ></th>        <th class=\"col_heading level0 col0\" >Purchase Count</th>        <th class=\"col_heading level0 col1\" >Average Purchase Price</th>        <th class=\"col_heading level0 col2\" >Total Purchase Value</th>    </tr>    <tr>        <th class=\"index_name level0\" >SN</th>        <th class=\"blank\" ></th>        <th class=\"blank\" ></th>        <th class=\"blank\" ></th>    </tr></thead><tbody>\n",
       "                <tr>\n",
       "                        <th id=\"T_d47a641e_f2c2_11ea_8989_42010a8a0002level0_row0\" class=\"row_heading level0 row0\" >Lisosia93</th>\n",
       "                        <td id=\"T_d47a641e_f2c2_11ea_8989_42010a8a0002row0_col0\" class=\"data row0 col0\" >5</td>\n",
       "                        <td id=\"T_d47a641e_f2c2_11ea_8989_42010a8a0002row0_col1\" class=\"data row0 col1\" >$3.79</td>\n",
       "                        <td id=\"T_d47a641e_f2c2_11ea_8989_42010a8a0002row0_col2\" class=\"data row0 col2\" >$18.96</td>\n",
       "            </tr>\n",
       "            <tr>\n",
       "                        <th id=\"T_d47a641e_f2c2_11ea_8989_42010a8a0002level0_row1\" class=\"row_heading level0 row1\" >Idastidru52</th>\n",
       "                        <td id=\"T_d47a641e_f2c2_11ea_8989_42010a8a0002row1_col0\" class=\"data row1 col0\" >4</td>\n",
       "                        <td id=\"T_d47a641e_f2c2_11ea_8989_42010a8a0002row1_col1\" class=\"data row1 col1\" >$3.86</td>\n",
       "                        <td id=\"T_d47a641e_f2c2_11ea_8989_42010a8a0002row1_col2\" class=\"data row1 col2\" >$15.45</td>\n",
       "            </tr>\n",
       "            <tr>\n",
       "                        <th id=\"T_d47a641e_f2c2_11ea_8989_42010a8a0002level0_row2\" class=\"row_heading level0 row2\" >Chamjask73</th>\n",
       "                        <td id=\"T_d47a641e_f2c2_11ea_8989_42010a8a0002row2_col0\" class=\"data row2 col0\" >3</td>\n",
       "                        <td id=\"T_d47a641e_f2c2_11ea_8989_42010a8a0002row2_col1\" class=\"data row2 col1\" >$4.61</td>\n",
       "                        <td id=\"T_d47a641e_f2c2_11ea_8989_42010a8a0002row2_col2\" class=\"data row2 col2\" >$13.83</td>\n",
       "            </tr>\n",
       "            <tr>\n",
       "                        <th id=\"T_d47a641e_f2c2_11ea_8989_42010a8a0002level0_row3\" class=\"row_heading level0 row3\" >Iral74</th>\n",
       "                        <td id=\"T_d47a641e_f2c2_11ea_8989_42010a8a0002row3_col0\" class=\"data row3 col0\" >4</td>\n",
       "                        <td id=\"T_d47a641e_f2c2_11ea_8989_42010a8a0002row3_col1\" class=\"data row3 col1\" >$3.40</td>\n",
       "                        <td id=\"T_d47a641e_f2c2_11ea_8989_42010a8a0002row3_col2\" class=\"data row3 col2\" >$13.62</td>\n",
       "            </tr>\n",
       "            <tr>\n",
       "                        <th id=\"T_d47a641e_f2c2_11ea_8989_42010a8a0002level0_row4\" class=\"row_heading level0 row4\" >Iskadarya95</th>\n",
       "                        <td id=\"T_d47a641e_f2c2_11ea_8989_42010a8a0002row4_col0\" class=\"data row4 col0\" >3</td>\n",
       "                        <td id=\"T_d47a641e_f2c2_11ea_8989_42010a8a0002row4_col1\" class=\"data row4 col1\" >$4.37</td>\n",
       "                        <td id=\"T_d47a641e_f2c2_11ea_8989_42010a8a0002row4_col2\" class=\"data row4 col2\" >$13.10</td>\n",
       "            </tr>\n",
       "    </tbody></table>"
      ],
      "text/plain": [
       "<pandas.io.formats.style.Styler at 0x7f19b43e4e50>"
      ]
     },
     "execution_count": 8,
     "metadata": {},
     "output_type": "execute_result"
    },
    {
     "data": {
      "application/javascript": [
       "\n",
       "            setTimeout(function() {\n",
       "                var nbb_cell_id = 8;\n",
       "                var nbb_unformatted_code = \"#count purchases by screen name\\nuser_purchase_count = df.groupby([\\\"SN\\\"])[\\\"Purchase ID\\\"].count()\\n\\n#calculate total purchase value by screen name\\nuser_purchase_total = df.groupby([\\\"SN\\\"])[\\\"Price\\\"].sum()\\n\\n#calculate avg purchase price by screen name\\nuser_avg_purchse = round(user_purchase_total / user_purchase_count, 2)\\n\\n#create dataframe for output\\ntop_spenders = pd.DataFrame({\\n    \\\"Purchase Count\\\": user_purchase_count,\\n    \\\"Average Purchase Price\\\": user_avg_purchse,\\n    \\\"Total Purchase Value\\\": user_purchase_total\\n})\\n\\n#sort in descending order and display top 5 spenders\\nsorted_spenders = top_spenders.sort_values(by=[\\\"Total Purchase Value\\\"], ascending=False).head(5)\\n\\n#format to add dollar sign\\nsorted_spenders.style.format({\\\"Average Purchase Price\\\": \\\"${:,.2f}\\\", \\n                          \\\"Total Purchase Value\\\": \\\"${:,.2f}\\\"})\";\n",
       "                var nbb_formatted_code = \"# count purchases by screen name\\nuser_purchase_count = df.groupby([\\\"SN\\\"])[\\\"Purchase ID\\\"].count()\\n\\n# calculate total purchase value by screen name\\nuser_purchase_total = df.groupby([\\\"SN\\\"])[\\\"Price\\\"].sum()\\n\\n# calculate avg purchase price by screen name\\nuser_avg_purchse = round(user_purchase_total / user_purchase_count, 2)\\n\\n# create dataframe for output\\ntop_spenders = pd.DataFrame(\\n    {\\n        \\\"Purchase Count\\\": user_purchase_count,\\n        \\\"Average Purchase Price\\\": user_avg_purchse,\\n        \\\"Total Purchase Value\\\": user_purchase_total,\\n    }\\n)\\n\\n# sort in descending order and display top 5 spenders\\nsorted_spenders = top_spenders.sort_values(\\n    by=[\\\"Total Purchase Value\\\"], ascending=False\\n).head(5)\\n\\n# format to add dollar sign\\nsorted_spenders.style.format(\\n    {\\\"Average Purchase Price\\\": \\\"${:,.2f}\\\", \\\"Total Purchase Value\\\": \\\"${:,.2f}\\\"}\\n)\";\n",
       "                var nbb_cells = Jupyter.notebook.get_cells();\n",
       "                for (var i = 0; i < nbb_cells.length; ++i) {\n",
       "                    if (nbb_cells[i].input_prompt_number == nbb_cell_id) {\n",
       "                        if (nbb_cells[i].get_text() == nbb_unformatted_code) {\n",
       "                             nbb_cells[i].set_text(nbb_formatted_code);\n",
       "                        }\n",
       "                        break;\n",
       "                    }\n",
       "                }\n",
       "            }, 500);\n",
       "            "
      ],
      "text/plain": [
       "<IPython.core.display.Javascript object>"
      ]
     },
     "metadata": {},
     "output_type": "display_data"
    }
   ],
   "source": [
    "#count purchases by screen name\n",
    "user_purchase_count = df.groupby([\"SN\"])[\"Purchase ID\"].count()\n",
    "\n",
    "#calculate total purchase value by screen name\n",
    "user_purchase_total = df.groupby([\"SN\"])[\"Price\"].sum()\n",
    "\n",
    "#calculate avg purchase price by screen name\n",
    "user_avg_purchse = round(user_purchase_total / user_purchase_count, 2)\n",
    "\n",
    "#create dataframe for output\n",
    "top_spenders = pd.DataFrame({\n",
    "    \"Purchase Count\": user_purchase_count,\n",
    "    \"Average Purchase Price\": user_avg_purchse,\n",
    "    \"Total Purchase Value\": user_purchase_total\n",
    "})\n",
    "\n",
    "#sort in descending order and display top 5 spenders\n",
    "sorted_spenders = top_spenders.sort_values(by=[\"Total Purchase Value\"], ascending=False).head(5)\n",
    "\n",
    "#format to add dollar sign\n",
    "sorted_spenders.style.format({\"Average Purchase Price\": \"${:,.2f}\", \n",
    "                          \"Total Purchase Value\": \"${:,.2f}\"})"
   ]
  },
  {
   "cell_type": "markdown",
   "metadata": {},
   "source": [
    "## Most Popular Items"
   ]
  },
  {
   "cell_type": "code",
   "execution_count": 9,
   "metadata": {},
   "outputs": [
    {
     "data": {
      "text/html": [
       "<style  type=\"text/css\" >\n",
       "</style><table id=\"T_d488b154_f2c2_11ea_8989_42010a8a0002\" ><thead>    <tr>        <th class=\"blank\" ></th>        <th class=\"blank level0\" ></th>        <th class=\"col_heading level0 col0\" >Purchase Count</th>        <th class=\"col_heading level0 col1\" >Item Price</th>        <th class=\"col_heading level0 col2\" >Total Purchase Value</th>    </tr>    <tr>        <th class=\"index_name level0\" >Item ID</th>        <th class=\"index_name level1\" >Item Name</th>        <th class=\"blank\" ></th>        <th class=\"blank\" ></th>        <th class=\"blank\" ></th>    </tr></thead><tbody>\n",
       "                <tr>\n",
       "                        <th id=\"T_d488b154_f2c2_11ea_8989_42010a8a0002level0_row0\" class=\"row_heading level0 row0\" >178</th>\n",
       "                        <th id=\"T_d488b154_f2c2_11ea_8989_42010a8a0002level1_row0\" class=\"row_heading level1 row0\" >Oathbreaker, Last Hope of the Breaking Storm</th>\n",
       "                        <td id=\"T_d488b154_f2c2_11ea_8989_42010a8a0002row0_col0\" class=\"data row0 col0\" >12</td>\n",
       "                        <td id=\"T_d488b154_f2c2_11ea_8989_42010a8a0002row0_col1\" class=\"data row0 col1\" >$4.23</td>\n",
       "                        <td id=\"T_d488b154_f2c2_11ea_8989_42010a8a0002row0_col2\" class=\"data row0 col2\" >$50.76</td>\n",
       "            </tr>\n",
       "            <tr>\n",
       "                        <th id=\"T_d488b154_f2c2_11ea_8989_42010a8a0002level0_row1\" class=\"row_heading level0 row1\" >145</th>\n",
       "                        <th id=\"T_d488b154_f2c2_11ea_8989_42010a8a0002level1_row1\" class=\"row_heading level1 row1\" >Fiery Glass Crusader</th>\n",
       "                        <td id=\"T_d488b154_f2c2_11ea_8989_42010a8a0002row1_col0\" class=\"data row1 col0\" >9</td>\n",
       "                        <td id=\"T_d488b154_f2c2_11ea_8989_42010a8a0002row1_col1\" class=\"data row1 col1\" >$4.58</td>\n",
       "                        <td id=\"T_d488b154_f2c2_11ea_8989_42010a8a0002row1_col2\" class=\"data row1 col2\" >$41.22</td>\n",
       "            </tr>\n",
       "            <tr>\n",
       "                        <th id=\"T_d488b154_f2c2_11ea_8989_42010a8a0002level0_row2\" class=\"row_heading level0 row2\" >108</th>\n",
       "                        <th id=\"T_d488b154_f2c2_11ea_8989_42010a8a0002level1_row2\" class=\"row_heading level1 row2\" >Extraction, Quickblade Of Trembling Hands</th>\n",
       "                        <td id=\"T_d488b154_f2c2_11ea_8989_42010a8a0002row2_col0\" class=\"data row2 col0\" >9</td>\n",
       "                        <td id=\"T_d488b154_f2c2_11ea_8989_42010a8a0002row2_col1\" class=\"data row2 col1\" >$3.53</td>\n",
       "                        <td id=\"T_d488b154_f2c2_11ea_8989_42010a8a0002row2_col2\" class=\"data row2 col2\" >$31.77</td>\n",
       "            </tr>\n",
       "            <tr>\n",
       "                        <th id=\"T_d488b154_f2c2_11ea_8989_42010a8a0002level0_row3\" class=\"row_heading level0 row3\" >82</th>\n",
       "                        <th id=\"T_d488b154_f2c2_11ea_8989_42010a8a0002level1_row3\" class=\"row_heading level1 row3\" >Nirvana</th>\n",
       "                        <td id=\"T_d488b154_f2c2_11ea_8989_42010a8a0002row3_col0\" class=\"data row3 col0\" >9</td>\n",
       "                        <td id=\"T_d488b154_f2c2_11ea_8989_42010a8a0002row3_col1\" class=\"data row3 col1\" >$4.90</td>\n",
       "                        <td id=\"T_d488b154_f2c2_11ea_8989_42010a8a0002row3_col2\" class=\"data row3 col2\" >$44.10</td>\n",
       "            </tr>\n",
       "            <tr>\n",
       "                        <th id=\"T_d488b154_f2c2_11ea_8989_42010a8a0002level0_row4\" class=\"row_heading level0 row4\" >19</th>\n",
       "                        <th id=\"T_d488b154_f2c2_11ea_8989_42010a8a0002level1_row4\" class=\"row_heading level1 row4\" >Pursuit, Cudgel of Necromancy</th>\n",
       "                        <td id=\"T_d488b154_f2c2_11ea_8989_42010a8a0002row4_col0\" class=\"data row4 col0\" >8</td>\n",
       "                        <td id=\"T_d488b154_f2c2_11ea_8989_42010a8a0002row4_col1\" class=\"data row4 col1\" >$1.02</td>\n",
       "                        <td id=\"T_d488b154_f2c2_11ea_8989_42010a8a0002row4_col2\" class=\"data row4 col2\" >$8.16</td>\n",
       "            </tr>\n",
       "    </tbody></table>"
      ],
      "text/plain": [
       "<pandas.io.formats.style.Styler at 0x7f19b4569150>"
      ]
     },
     "execution_count": 9,
     "metadata": {},
     "output_type": "execute_result"
    },
    {
     "data": {
      "application/javascript": [
       "\n",
       "            setTimeout(function() {\n",
       "                var nbb_cell_id = 9;\n",
       "                var nbb_unformatted_code = \"#create df of purchase information\\npurchase_df = df[[\\\"Item ID\\\", \\\"Item Name\\\", \\\"Price\\\"]]\\n\\n#calculate purchase count\\npurchase_count = purchase_df.groupby([\\\"Item ID\\\", \\\"Item Name\\\"])[\\\"Item ID\\\"].count()\\n\\n#group price by item id and item name\\nitem_price = purchase_df.groupby([\\\"Item ID\\\", \\\"Item Name\\\"])[\\\"Price\\\"].mean()\\n\\n#calculate total purchase value\\ntotal_purchase_value = purchase_df.groupby([\\\"Item ID\\\", \\\"Item Name\\\"])[\\\"Price\\\"].sum()\\n\\n#create df for output\\npopular_items = pd.DataFrame({\\n    \\\"Purchase Count\\\": purchase_count,\\n    \\\"Item Price\\\": item_price,\\n    \\\"Total Purchase Value\\\": total_purchase_value\\n})\\n\\n#sort dataframe by purchase count to show most popular item \\nsorted_items = popular_items.sort_values(by=[\\\"Purchase Count\\\"], ascending=False).head(5)\\n\\n#format to add dollar sign\\nsorted_items.style.format({\\\"Item Price\\\": \\\"${:,.2f}\\\", \\n                          \\\"Total Purchase Value\\\": \\\"${:,.2f}\\\"})\";\n",
       "                var nbb_formatted_code = \"# create df of purchase information\\npurchase_df = df[[\\\"Item ID\\\", \\\"Item Name\\\", \\\"Price\\\"]]\\n\\n# calculate purchase count\\npurchase_count = purchase_df.groupby([\\\"Item ID\\\", \\\"Item Name\\\"])[\\\"Item ID\\\"].count()\\n\\n# group price by item id and item name\\nitem_price = purchase_df.groupby([\\\"Item ID\\\", \\\"Item Name\\\"])[\\\"Price\\\"].mean()\\n\\n# calculate total purchase value\\ntotal_purchase_value = purchase_df.groupby([\\\"Item ID\\\", \\\"Item Name\\\"])[\\\"Price\\\"].sum()\\n\\n# create df for output\\npopular_items = pd.DataFrame(\\n    {\\n        \\\"Purchase Count\\\": purchase_count,\\n        \\\"Item Price\\\": item_price,\\n        \\\"Total Purchase Value\\\": total_purchase_value,\\n    }\\n)\\n\\n# sort dataframe by purchase count to show most popular item\\nsorted_items = popular_items.sort_values(by=[\\\"Purchase Count\\\"], ascending=False).head(5)\\n\\n# format to add dollar sign\\nsorted_items.style.format(\\n    {\\\"Item Price\\\": \\\"${:,.2f}\\\", \\\"Total Purchase Value\\\": \\\"${:,.2f}\\\"}\\n)\";\n",
       "                var nbb_cells = Jupyter.notebook.get_cells();\n",
       "                for (var i = 0; i < nbb_cells.length; ++i) {\n",
       "                    if (nbb_cells[i].input_prompt_number == nbb_cell_id) {\n",
       "                        if (nbb_cells[i].get_text() == nbb_unformatted_code) {\n",
       "                             nbb_cells[i].set_text(nbb_formatted_code);\n",
       "                        }\n",
       "                        break;\n",
       "                    }\n",
       "                }\n",
       "            }, 500);\n",
       "            "
      ],
      "text/plain": [
       "<IPython.core.display.Javascript object>"
      ]
     },
     "metadata": {},
     "output_type": "display_data"
    }
   ],
   "source": [
    "#create df of purchase information\n",
    "purchase_df = df[[\"Item ID\", \"Item Name\", \"Price\"]]\n",
    "\n",
    "#calculate purchase count\n",
    "purchase_count = purchase_df.groupby([\"Item ID\", \"Item Name\"])[\"Item ID\"].count()\n",
    "\n",
    "#group price by item id and item name\n",
    "item_price = purchase_df.groupby([\"Item ID\", \"Item Name\"])[\"Price\"].mean()\n",
    "\n",
    "#calculate total purchase value\n",
    "total_purchase_value = purchase_df.groupby([\"Item ID\", \"Item Name\"])[\"Price\"].sum()\n",
    "\n",
    "#create df for output\n",
    "popular_items = pd.DataFrame({\n",
    "    \"Purchase Count\": purchase_count,\n",
    "    \"Item Price\": item_price,\n",
    "    \"Total Purchase Value\": total_purchase_value\n",
    "})\n",
    "\n",
    "#sort dataframe by purchase count to show most popular item \n",
    "sorted_items = popular_items.sort_values(by=[\"Purchase Count\"], ascending=False).head(5)\n",
    "\n",
    "#format to add dollar sign\n",
    "sorted_items.style.format({\"Item Price\": \"${:,.2f}\", \n",
    "                          \"Total Purchase Value\": \"${:,.2f}\"})"
   ]
  },
  {
   "cell_type": "markdown",
   "metadata": {},
   "source": [
    "## Most Profitable Items"
   ]
  },
  {
   "cell_type": "code",
   "execution_count": 10,
   "metadata": {},
   "outputs": [
    {
     "data": {
      "text/html": [
       "<style  type=\"text/css\" >\n",
       "</style><table id=\"T_d491b984_f2c2_11ea_8989_42010a8a0002\" ><thead>    <tr>        <th class=\"blank\" ></th>        <th class=\"blank level0\" ></th>        <th class=\"col_heading level0 col0\" >Purchase Count</th>        <th class=\"col_heading level0 col1\" >Item Price</th>        <th class=\"col_heading level0 col2\" >Total Purchase Value</th>    </tr>    <tr>        <th class=\"index_name level0\" >Item ID</th>        <th class=\"index_name level1\" >Item Name</th>        <th class=\"blank\" ></th>        <th class=\"blank\" ></th>        <th class=\"blank\" ></th>    </tr></thead><tbody>\n",
       "                <tr>\n",
       "                        <th id=\"T_d491b984_f2c2_11ea_8989_42010a8a0002level0_row0\" class=\"row_heading level0 row0\" >178</th>\n",
       "                        <th id=\"T_d491b984_f2c2_11ea_8989_42010a8a0002level1_row0\" class=\"row_heading level1 row0\" >Oathbreaker, Last Hope of the Breaking Storm</th>\n",
       "                        <td id=\"T_d491b984_f2c2_11ea_8989_42010a8a0002row0_col0\" class=\"data row0 col0\" >12</td>\n",
       "                        <td id=\"T_d491b984_f2c2_11ea_8989_42010a8a0002row0_col1\" class=\"data row0 col1\" >$4.23</td>\n",
       "                        <td id=\"T_d491b984_f2c2_11ea_8989_42010a8a0002row0_col2\" class=\"data row0 col2\" >$50.76</td>\n",
       "            </tr>\n",
       "            <tr>\n",
       "                        <th id=\"T_d491b984_f2c2_11ea_8989_42010a8a0002level0_row1\" class=\"row_heading level0 row1\" >82</th>\n",
       "                        <th id=\"T_d491b984_f2c2_11ea_8989_42010a8a0002level1_row1\" class=\"row_heading level1 row1\" >Nirvana</th>\n",
       "                        <td id=\"T_d491b984_f2c2_11ea_8989_42010a8a0002row1_col0\" class=\"data row1 col0\" >9</td>\n",
       "                        <td id=\"T_d491b984_f2c2_11ea_8989_42010a8a0002row1_col1\" class=\"data row1 col1\" >$4.90</td>\n",
       "                        <td id=\"T_d491b984_f2c2_11ea_8989_42010a8a0002row1_col2\" class=\"data row1 col2\" >$44.10</td>\n",
       "            </tr>\n",
       "            <tr>\n",
       "                        <th id=\"T_d491b984_f2c2_11ea_8989_42010a8a0002level0_row2\" class=\"row_heading level0 row2\" >145</th>\n",
       "                        <th id=\"T_d491b984_f2c2_11ea_8989_42010a8a0002level1_row2\" class=\"row_heading level1 row2\" >Fiery Glass Crusader</th>\n",
       "                        <td id=\"T_d491b984_f2c2_11ea_8989_42010a8a0002row2_col0\" class=\"data row2 col0\" >9</td>\n",
       "                        <td id=\"T_d491b984_f2c2_11ea_8989_42010a8a0002row2_col1\" class=\"data row2 col1\" >$4.58</td>\n",
       "                        <td id=\"T_d491b984_f2c2_11ea_8989_42010a8a0002row2_col2\" class=\"data row2 col2\" >$41.22</td>\n",
       "            </tr>\n",
       "            <tr>\n",
       "                        <th id=\"T_d491b984_f2c2_11ea_8989_42010a8a0002level0_row3\" class=\"row_heading level0 row3\" >92</th>\n",
       "                        <th id=\"T_d491b984_f2c2_11ea_8989_42010a8a0002level1_row3\" class=\"row_heading level1 row3\" >Final Critic</th>\n",
       "                        <td id=\"T_d491b984_f2c2_11ea_8989_42010a8a0002row3_col0\" class=\"data row3 col0\" >8</td>\n",
       "                        <td id=\"T_d491b984_f2c2_11ea_8989_42010a8a0002row3_col1\" class=\"data row3 col1\" >$4.88</td>\n",
       "                        <td id=\"T_d491b984_f2c2_11ea_8989_42010a8a0002row3_col2\" class=\"data row3 col2\" >$39.04</td>\n",
       "            </tr>\n",
       "            <tr>\n",
       "                        <th id=\"T_d491b984_f2c2_11ea_8989_42010a8a0002level0_row4\" class=\"row_heading level0 row4\" >103</th>\n",
       "                        <th id=\"T_d491b984_f2c2_11ea_8989_42010a8a0002level1_row4\" class=\"row_heading level1 row4\" >Singed Scalpel</th>\n",
       "                        <td id=\"T_d491b984_f2c2_11ea_8989_42010a8a0002row4_col0\" class=\"data row4 col0\" >8</td>\n",
       "                        <td id=\"T_d491b984_f2c2_11ea_8989_42010a8a0002row4_col1\" class=\"data row4 col1\" >$4.35</td>\n",
       "                        <td id=\"T_d491b984_f2c2_11ea_8989_42010a8a0002row4_col2\" class=\"data row4 col2\" >$34.80</td>\n",
       "            </tr>\n",
       "    </tbody></table>"
      ],
      "text/plain": [
       "<pandas.io.formats.style.Styler at 0x7f19b4303d50>"
      ]
     },
     "execution_count": 10,
     "metadata": {},
     "output_type": "execute_result"
    },
    {
     "data": {
      "application/javascript": [
       "\n",
       "            setTimeout(function() {\n",
       "                var nbb_cell_id = 10;\n",
       "                var nbb_unformatted_code = \"#sort previous table by total purchase value to show most profitable item by price\\nsorted_profit_items = popular_items.sort_values(by=[\\\"Total Purchase Value\\\"], ascending=False).head(5)\\n\\n#format to add dollar sign\\nsorted_profit_items.style.format({\\\"Item Price\\\": \\\"${:,.2f}\\\", \\n                          \\\"Total Purchase Value\\\": \\\"${:,.2f}\\\"})\";\n",
       "                var nbb_formatted_code = \"# sort previous table by total purchase value to show most profitable item by price\\nsorted_profit_items = popular_items.sort_values(\\n    by=[\\\"Total Purchase Value\\\"], ascending=False\\n).head(5)\\n\\n# format to add dollar sign\\nsorted_profit_items.style.format(\\n    {\\\"Item Price\\\": \\\"${:,.2f}\\\", \\\"Total Purchase Value\\\": \\\"${:,.2f}\\\"}\\n)\";\n",
       "                var nbb_cells = Jupyter.notebook.get_cells();\n",
       "                for (var i = 0; i < nbb_cells.length; ++i) {\n",
       "                    if (nbb_cells[i].input_prompt_number == nbb_cell_id) {\n",
       "                        if (nbb_cells[i].get_text() == nbb_unformatted_code) {\n",
       "                             nbb_cells[i].set_text(nbb_formatted_code);\n",
       "                        }\n",
       "                        break;\n",
       "                    }\n",
       "                }\n",
       "            }, 500);\n",
       "            "
      ],
      "text/plain": [
       "<IPython.core.display.Javascript object>"
      ]
     },
     "metadata": {},
     "output_type": "display_data"
    }
   ],
   "source": [
    "#sort previous table by total purchase value to show most profitable item by price\n",
    "sorted_profit_items = popular_items.sort_values(by=[\"Total Purchase Value\"], ascending=False).head(5)\n",
    "\n",
    "#format to add dollar sign\n",
    "sorted_profit_items.style.format({\"Item Price\": \"${:,.2f}\", \n",
    "                          \"Total Purchase Value\": \"${:,.2f}\"})"
   ]
  },
  {
   "cell_type": "code",
   "execution_count": null,
   "metadata": {},
   "outputs": [],
   "source": []
  }
 ],
 "metadata": {
  "environment": {
   "name": "common-cpu.m54",
   "type": "gcloud",
   "uri": "gcr.io/deeplearning-platform-release/base-cpu:m54"
  },
  "kernelspec": {
   "display_name": "Python 3",
   "language": "python",
   "name": "python3"
  },
  "language_info": {
   "codemirror_mode": {
    "name": "ipython",
    "version": 3
   },
   "file_extension": ".py",
   "mimetype": "text/x-python",
   "name": "python",
   "nbconvert_exporter": "python",
   "pygments_lexer": "ipython3",
   "version": "3.7.8"
  }
 },
 "nbformat": 4,
 "nbformat_minor": 4
}
